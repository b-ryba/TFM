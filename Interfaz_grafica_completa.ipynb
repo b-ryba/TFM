{
 "cells": [
  {
   "cell_type": "markdown",
   "metadata": {
    "id": "0onGgJHmwaDg"
   },
   "source": [
    "# **Clasificador de células normales de sangre periférica**\n",
    "\n",
    "Interfaz gráfica que nos permita clasificar imágenes de células normales de sangre periférica utilizando cuatro modelos distintos de redes:\n",
    "\n",
    "* ResNet18\n",
    "\n",
    "* ResNet34\n",
    "\n",
    "* ViT -Base\n",
    "\n",
    "* ViT-Large\n",
    "\n",
    "Instrucciones:\n",
    "    \n",
    "- Selecciona la imagen que quieras clasificar desde el botón *Examinar*\n",
    "   \n",
    "- Selecciona la red que quieras utilizar para su clasificición en el desplegable.\n",
    "\n",
    "- ¡Todo listo! Haz click en *Clasificar* y aparecerá el valor de la predicción y su correspondiente etiqueta."
   ]
  },
  {
   "cell_type": "code",
   "execution_count": 2,
   "metadata": {
    "colab": {
     "base_uri": "https://localhost:8080/"
    },
    "id": "zegPRFCmyixE",
    "outputId": "ce5390f9-4060-432e-ddd9-1c5313142d8a"
   },
   "outputs": [],
   "source": [
    "from fastai.vision.all import *\n",
    "from fastai.vision.widgets import *\n",
    "import os"
   ]
  },
  {
   "cell_type": "code",
   "execution_count": 3,
   "metadata": {
    "colab": {
     "base_uri": "https://localhost:8080/"
    },
    "id": "yGVgtJcxxX2a",
    "outputId": "0f48d061-02d8-4803-8d3f-5097b6a8ccab"
   },
   "outputs": [],
   "source": [
    "# Descomprimimos los archivos zip con los datos en el directorio \n",
    "#hide \n",
    "\n",
    "if (os.path.isdir(\"resnet18\")):\n",
    "    pass\n",
    "else:\n",
    "    !unzip -qq resnet18.zip\n",
    "    \n",
    "if (os.path.isdir(\"resnet34\")):\n",
    "    pass\n",
    "else:\n",
    "    !unzip -qq resnet34.zip\n",
    "    \n",
    "if (os.path.isdir(\"vit_base\")):\n",
    "    pass\n",
    "else:\n",
    "    !unzip -qq vit_base.zip\n",
    "\n",
    "if (os.path.isdir(\"vit_large\")):\n",
    "    pass\n",
    "else:\n",
    "    !unzip -qq vit_large.zip\n"
   ]
  },
  {
   "cell_type": "code",
   "execution_count": null,
   "metadata": {
    "id": "pcHmjlYFxGXd"
   },
   "outputs": [],
   "source": [
    "# Cargamos los resultados para cada uno de los modelos\n",
    "path = Path()\n",
    "path_model = os.path.join(path, 'resnet18')\n",
    "path_18 = os.path.join(path, 'resnet18')\n",
    "learn_inf = load_learner(os.path.join(path_18, 'export.pkl'))"
   ]
  },
  {
   "cell_type": "code",
   "execution_count": null,
   "metadata": {
    "id": "xZwXXlnKyuHQ"
   },
   "outputs": [],
   "source": [
    "\n",
    "path_34 = os.path.join(path, 'resnet34')\n",
    "learn_inf2 = load_learner(os.path.join(path_34, 'export.pkl'))\n",
    "\n",
    "path_12 = os.path.join(path, 'vit_base')\n",
    "learn_inf3 = load_learner(os.path.join(path_12, 'export.pkl'))\n",
    "\n",
    "path_24 = os.path.join(path, 'vit_large')\n",
    "learn_inf4 = load_learner(os.path.join(path_34, 'export.pkl'))\n"
   ]
  },
  {
   "cell_type": "code",
   "execution_count": 29,
   "metadata": {
    "id": "hcX9WFHzwOf5"
   },
   "outputs": [],
   "source": [
    "#Definimos los valores de los elemento que vamos a utilizar\n",
    "#hide_output\n",
    "\n",
    "btn_upload = widgets.FileUpload(multiple=False)\n",
    "\n",
    "out_pl = widgets.Output()\n",
    "\n",
    "btn_run = widgets.Button(description='Clasificar')\n",
    "\n",
    "btn_select = widgets.Dropdown(\n",
    "    options=[('ResNet18', 18 ), ('ResNet34', 34),\n",
    "              ('ViT-Base', 12), ('ViT-Large', 24)]\n",
    ")\n",
    "\n",
    "lbl_pred = widgets.Label()\n"
   ]
  },
  {
   "cell_type": "code",
   "execution_count": 31,
   "metadata": {
    "id": "yZshPXf8wYCq"
   },
   "outputs": [],
   "source": [
    "\n",
    "\n",
    "def on_click_classify(change):\n",
    "    img = PILImage.create(btn_upload.data[-1])\n",
    "    out_pl.clear_output()\n",
    "    with out_pl: display(img.to_thumb(128,128))\n",
    "\n",
    "    if btn_select.value == 18:\n",
    "        pred,pred_idx,probs = learn_inf.predict(img)\n",
    "        \n",
    "\n",
    "    elif btn_select.value == 34:\n",
    "        pred,pred_idx,probs = learn_inf2.predict(img)\n",
    "    \n",
    "    elif btn_select.value == 12:\n",
    "        pred,pred_idx,probs = learn_inf3.predict(img)\n",
    "      \n",
    "    else:\n",
    "        pred,pred_idx,probs = learn_inf4.predict(img)\n",
    "    \n",
    "    lbl_pred.value = f'Predicción: {pred}, Probabilidad: {probs[pred_idx]:.04f}'\n",
    "\n",
    "\n",
    "    return lbl_pred.value\n",
    "\n",
    "btn_run.on_click(on_click_classify)"
   ]
  },
  {
   "cell_type": "code",
   "execution_count": 32,
   "metadata": {
    "id": "kptYUqNcx3To"
   },
   "outputs": [],
   "source": [
    "#hide\n",
    "#Putting back btn_upload to a widget for next cell\n",
    "btn_upload = widgets.FileUpload()"
   ]
  },
  {
   "cell_type": "code",
   "execution_count": 33,
   "metadata": {
    "colab": {
     "base_uri": "https://localhost:8080/",
     "height": 337,
     "referenced_widgets": [
      "140e156008ff4c6c8e519b3a816aca20",
      "c4e1af99163e4d13bdc847ad0c0d1e64",
      "80c0a755473641ea8aa83238ce14c532",
      "b34234e96f924cbc923277a675d6041b",
      "5060212871a142bfb5341a7a32fd1341",
      "85508aaf24594ecb9c80a37cb8640bda",
      "3e14537f73f84bb2bd51019475d5a936",
      "aa3b24dee1224cf9ae95bf2993ec3f63",
      "102c3453d58a4e83be9e8164dee19bba",
      "b6d537b377804632b523547e1e44eced",
      "ab3b6e4af138484780138b7972ca5569",
      "10d4bb6fce8d4188ad4bccd928180661",
      "1fefbece17184022a1ec5ebb32b5c9a1",
      "73b9c255b56a43dd903a17198427ed5a",
      "3fdc66a2c7bc4666b6bda0bc3c6f2bc4",
      "49aca987907446a9a1855cde1a91653d",
      "ff8d345f66f84cbc83eb96f6f708bffd",
      "60d06394630a44b29fb02ae99c4e1ef3",
      "50f29482f3c7407da1eec70267ee3d88",
      "164daef3458d41378c5d4a7290975962",
      "8928b4abaae0493cb3eaf8f185b63233",
      "e39a918a018f42c58b757777707f7edc"
     ]
    },
    "id": "nX5nnSoLx5_h",
    "outputId": "29b2174f-7b09-4f64-cedb-2d736fc51503"
   },
   "outputs": [
    {
     "data": {
      "application/vnd.jupyter.widget-view+json": {
       "model_id": "21b6c39016e94b5bb6e57c12c6aacc43",
       "version_major": 2,
       "version_minor": 0
      },
      "text/plain": [
       "VBox(children=(Label(value='Selecciona tu imagen:'), FileUpload(value={}, description='Upload'), Output(), Lab…"
      ]
     },
     "metadata": {},
     "output_type": "display_data"
    },
    {
     "data": {
      "text/html": [],
      "text/plain": [
       "<IPython.core.display.HTML object>"
      ]
     },
     "metadata": {},
     "output_type": "display_data"
    },
    {
     "data": {
      "text/html": [],
      "text/plain": [
       "<IPython.core.display.HTML object>"
      ]
     },
     "metadata": {},
     "output_type": "display_data"
    },
    {
     "data": {
      "text/html": [],
      "text/plain": [
       "<IPython.core.display.HTML object>"
      ]
     },
     "metadata": {},
     "output_type": "display_data"
    },
    {
     "data": {
      "text/html": [],
      "text/plain": [
       "<IPython.core.display.HTML object>"
      ]
     },
     "metadata": {},
     "output_type": "display_data"
    }
   ],
   "source": [
    "from ipywidgets import *\n",
    "#hide_output\n",
    "VBox([widgets.Label('Selecciona tu imagen:'), \n",
    "      btn_upload,\n",
    "      out_pl,\n",
    "      widgets.Label('Tipo de red a emplear:'),\n",
    "      btn_select, btn_run, lbl_pred])"
   ]
  }
 ],
 "metadata": {
  "colab": {
   "collapsed_sections": [],
   "name": "Interfaz_grafica.ipynb",
   "provenance": [],
   "toc_visible": true
  },
  "kernelspec": {
   "display_name": "Python 3",
   "language": "python",
   "name": "python3"
  },
  "language_info": {
   "codemirror_mode": {
    "name": "ipython",
    "version": 3
   },
   "file_extension": ".py",
   "mimetype": "text/x-python",
   "name": "python",
   "nbconvert_exporter": "python",
   "pygments_lexer": "ipython3",
   "version": "3.8.0"
  },
  "widgets": {
   "application/vnd.jupyter.widget-state+json": {
    "102c3453d58a4e83be9e8164dee19bba": {
     "model_module": "@jupyter-widgets/controls",
     "model_name": "LabelModel",
     "state": {
      "_dom_classes": [],
      "_model_module": "@jupyter-widgets/controls",
      "_model_module_version": "1.5.0",
      "_model_name": "LabelModel",
      "_view_count": null,
      "_view_module": "@jupyter-widgets/controls",
      "_view_module_version": "1.5.0",
      "_view_name": "LabelView",
      "description": "",
      "description_tooltip": null,
      "layout": "IPY_MODEL_8928b4abaae0493cb3eaf8f185b63233",
      "placeholder": "​",
      "style": "IPY_MODEL_164daef3458d41378c5d4a7290975962",
      "value": "Predicción: MONOCYTE, Probabilidad: 0.8032"
     }
    },
    "10d4bb6fce8d4188ad4bccd928180661": {
     "model_module": "@jupyter-widgets/controls",
     "model_name": "ButtonStyleModel",
     "state": {
      "_model_module": "@jupyter-widgets/controls",
      "_model_module_version": "1.5.0",
      "_model_name": "ButtonStyleModel",
      "_view_count": null,
      "_view_module": "@jupyter-widgets/base",
      "_view_module_version": "1.2.0",
      "_view_name": "StyleView",
      "button_color": null,
      "font_weight": ""
     }
    },
    "140e156008ff4c6c8e519b3a816aca20": {
     "model_module": "@jupyter-widgets/controls",
     "model_name": "VBoxModel",
     "state": {
      "_dom_classes": [],
      "_model_module": "@jupyter-widgets/controls",
      "_model_module_version": "1.5.0",
      "_model_name": "VBoxModel",
      "_view_count": null,
      "_view_module": "@jupyter-widgets/controls",
      "_view_module_version": "1.5.0",
      "_view_name": "VBoxView",
      "box_style": "",
      "children": [
       "IPY_MODEL_80c0a755473641ea8aa83238ce14c532",
       "IPY_MODEL_b34234e96f924cbc923277a675d6041b",
       "IPY_MODEL_5060212871a142bfb5341a7a32fd1341",
       "IPY_MODEL_85508aaf24594ecb9c80a37cb8640bda",
       "IPY_MODEL_3e14537f73f84bb2bd51019475d5a936",
       "IPY_MODEL_aa3b24dee1224cf9ae95bf2993ec3f63",
       "IPY_MODEL_102c3453d58a4e83be9e8164dee19bba"
      ],
      "layout": "IPY_MODEL_c4e1af99163e4d13bdc847ad0c0d1e64"
     }
    },
    "164daef3458d41378c5d4a7290975962": {
     "model_module": "@jupyter-widgets/controls",
     "model_name": "DescriptionStyleModel",
     "state": {
      "_model_module": "@jupyter-widgets/controls",
      "_model_module_version": "1.5.0",
      "_model_name": "DescriptionStyleModel",
      "_view_count": null,
      "_view_module": "@jupyter-widgets/base",
      "_view_module_version": "1.2.0",
      "_view_name": "StyleView",
      "description_width": ""
     }
    },
    "1fefbece17184022a1ec5ebb32b5c9a1": {
     "model_module": "@jupyter-widgets/base",
     "model_name": "LayoutModel",
     "state": {
      "_model_module": "@jupyter-widgets/base",
      "_model_module_version": "1.2.0",
      "_model_name": "LayoutModel",
      "_view_count": null,
      "_view_module": "@jupyter-widgets/base",
      "_view_module_version": "1.2.0",
      "_view_name": "LayoutView",
      "align_content": null,
      "align_items": null,
      "align_self": null,
      "border": null,
      "bottom": null,
      "display": null,
      "flex": null,
      "flex_flow": null,
      "grid_area": null,
      "grid_auto_columns": null,
      "grid_auto_flow": null,
      "grid_auto_rows": null,
      "grid_column": null,
      "grid_gap": null,
      "grid_row": null,
      "grid_template_areas": null,
      "grid_template_columns": null,
      "grid_template_rows": null,
      "height": null,
      "justify_content": null,
      "justify_items": null,
      "left": null,
      "margin": null,
      "max_height": null,
      "max_width": null,
      "min_height": null,
      "min_width": null,
      "object_fit": null,
      "object_position": null,
      "order": null,
      "overflow": null,
      "overflow_x": null,
      "overflow_y": null,
      "padding": null,
      "right": null,
      "top": null,
      "visibility": null,
      "width": null
     }
    },
    "3e14537f73f84bb2bd51019475d5a936": {
     "model_module": "@jupyter-widgets/controls",
     "model_name": "DropdownModel",
     "state": {
      "_dom_classes": [],
      "_model_module": "@jupyter-widgets/controls",
      "_model_module_version": "1.5.0",
      "_model_name": "DropdownModel",
      "_options_labels": [
       "ResNet18",
       "ResNet34",
       "ViT-Base",
       "ViT-Large"
      ],
      "_view_count": null,
      "_view_module": "@jupyter-widgets/controls",
      "_view_module_version": "1.5.0",
      "_view_name": "DropdownView",
      "description": "",
      "description_tooltip": null,
      "disabled": false,
      "index": 3,
      "layout": "IPY_MODEL_ff8d345f66f84cbc83eb96f6f708bffd",
      "style": "IPY_MODEL_49aca987907446a9a1855cde1a91653d"
     }
    },
    "3fdc66a2c7bc4666b6bda0bc3c6f2bc4": {
     "model_module": "@jupyter-widgets/base",
     "model_name": "LayoutModel",
     "state": {
      "_model_module": "@jupyter-widgets/base",
      "_model_module_version": "1.2.0",
      "_model_name": "LayoutModel",
      "_view_count": null,
      "_view_module": "@jupyter-widgets/base",
      "_view_module_version": "1.2.0",
      "_view_name": "LayoutView",
      "align_content": null,
      "align_items": null,
      "align_self": null,
      "border": null,
      "bottom": null,
      "display": null,
      "flex": null,
      "flex_flow": null,
      "grid_area": null,
      "grid_auto_columns": null,
      "grid_auto_flow": null,
      "grid_auto_rows": null,
      "grid_column": null,
      "grid_gap": null,
      "grid_row": null,
      "grid_template_areas": null,
      "grid_template_columns": null,
      "grid_template_rows": null,
      "height": null,
      "justify_content": null,
      "justify_items": null,
      "left": null,
      "margin": null,
      "max_height": null,
      "max_width": null,
      "min_height": null,
      "min_width": null,
      "object_fit": null,
      "object_position": null,
      "order": null,
      "overflow": null,
      "overflow_x": null,
      "overflow_y": null,
      "padding": null,
      "right": null,
      "top": null,
      "visibility": null,
      "width": null
     }
    },
    "49aca987907446a9a1855cde1a91653d": {
     "model_module": "@jupyter-widgets/controls",
     "model_name": "DescriptionStyleModel",
     "state": {
      "_model_module": "@jupyter-widgets/controls",
      "_model_module_version": "1.5.0",
      "_model_name": "DescriptionStyleModel",
      "_view_count": null,
      "_view_module": "@jupyter-widgets/base",
      "_view_module_version": "1.2.0",
      "_view_name": "StyleView",
      "description_width": ""
     }
    },
    "5060212871a142bfb5341a7a32fd1341": {
     "model_module": "@jupyter-widgets/output",
     "model_name": "OutputModel",
     "state": {
      "_dom_classes": [],
      "_model_module": "@jupyter-widgets/output",
      "_model_module_version": "1.0.0",
      "_model_name": "OutputModel",
      "_view_count": null,
      "_view_module": "@jupyter-widgets/output",
      "_view_module_version": "1.0.0",
      "_view_name": "OutputView",
      "layout": "IPY_MODEL_e39a918a018f42c58b757777707f7edc",
      "msg_id": "",
      "outputs": [
       {
        "image/png": "iVBORw0KGgoAAAANSUhEUgAAAH8AAACACAIAAACtGyGIAABhyElEQVR4nJ39WbNlWZIehn3uvtYeznTHuDFl5NBVmTU1mgWg2QII0ghQEiRRMgLSC3+B9Cf0oh8hM5meRVGmB8mMAgETBFEESKAxdrPnquoasiqnyBjudKY9rOXuelj73IjIjOxuYFtaxr3n7nPO3r7X8uHzz93pj/7e/7Pvxpxds5uZmRKUiEBwgIiYGQAAZgohSAihqeuW791bHZ9WTpk8wMndneBwAjEEbx5OIDJ3hfHdB5oZERERiOD+lbeUF92diAC40+Hl6Uy1YbvO11d92mfVbGoOAshhBgMAJXJ2uMOIIEHAFEO9WPHx2aydBaIAh5m5g4jLtYDdPZux27C/Ga6u9rttToNnHc2MiN2KWKRcWwixbnF0LKdn87iKbLW7u7E7EdndzQLlFonubgAIfTemUXN2c4PD3Z2ciaYTidydmZnZ3cyMzSzncU/b236+pKoRGAE0iQt0+KryfYcvIsKbx51Y/50PkbhYVinZNmcfCBB3dbfXvtSJHHAGgYiJY1stj+ToeFbFmkhfe9DTATjM3S1r2l7n28ux69I45JxNswMwU/cifXN3EMzcTMYe/XY8fyDz0wEQkBNek/v0NSgSvpNGGIbsRmZO5c9MEHFiAQsINL3FYERwuKoGFUIcuzz0Y6hrAhNNO6WsctzdPtMbX394Nu7ucCIuz+ff8SEQi+D4ZBYZ69txHMyU3EzLFgBIysXDDRKkaavlebVYRaaaiB1Gry7s7jPhrma2vhlePu3ykFPSrOruqj6t/SI9d8ABym4ON8/ra7deL7idH0+rEdN+pYNE2Kdbn742uJGZMYHULZgwM0WuhZlEBACyJc0kxDA3uJOZiVjq024T6qVX7HAjhrmD2N3p8Ol+eP7kBgeBKTAAmAPkOJwP8N1KIQfgZgQGyjYtO/bwmYcPJyN3D1FWZ201a/a7sd8N40hBjWBe9iF7DDHWVVVjvqiqOpKIq5lnAk0fykIA3NzLleXdNm1e7tMwaOaU1B2qVvSkwyBwAMrkpExu2ZQMzDTs9nT1VGJD9ZxNQTBAgIM8pmdRljQABFV1QIg8MEeOsYpB2qXEObXLhon6Xd7e9Hlwt2zqZqTuZEYi3X4cxxjr8E2Ll5jhAHxSRJiU39d0/KvDzYsG/urrd0Knu/3kmPYxtzOuZ2E4FcucR4Wqm4M9VqGqamECORfjUqzDm4/y7tvcfRjs8kW335sppTQerAIxszuYASYATKx+MDAgM09kCON6zc0LPg+Roxcbcre3DT4pQZu+LkzfycSBYhXaBc9PqtVx09YcmR3oG2ka2W/63dp1NMDhlN2CuWVohtegO132Fbm6ledsoGLDXzvBX53v05K/++XrdpiYv/LitILKx8OYuJEZRUOjRQ06nJhAgBKc3crTt9ceYFGVPukGcjPb3vbdLqfR85jNzFHsB4QILEQMgrtz+QI196KRKENIMpNurvNsNi7Oi9UsFu5uwRCInBzGgIfDrREHrms+u2gWJ7OaAzmgYKaaIPNKIrv1/S5xn1VBDnKHszmZK3lZrgfp3C0lVWIG3A8apoiAaJKA3wkRX1vabgd3aPr9K89j8oK8vKXIsCjzAPfpdS1rwA7q685xOig6c7ASxOAEG9K4ux01q7s6QOWyGSzERBwDMQkRiFyzZiLImPVwv2qZlXUYcrfNs7NaCCQgmy5cwHA3U3MfBwd5ICJmEgkEr1fV7KhpJJLCCS4AkbhDrQ5c1dzvULweZpRn7niL1SSafB/iyQOUsjnc8MoOH/YK4fXP8DvXEgen807YzG9xTL/5cJt2ON25fa8M0vQPM5cHQYC79Z32XTbNmrWsaBHhgCAikau5SACD3N2U+31CsgDKKWPyPcjMzHW/y8sBbfvG9ZQPZBYzdfdp7U8ut1CoRGRaSAaoExFFJoYHFg4Gh2bLmkUkQ4MyshVPx90dZQcoJo1sXnSzGpxAxtO9GkjI2AEIkzu4fKe/4aG6ewkIDvIqv37l0bxhIb7x2dyd81XNeNg3xTNC7jXn4hVOe1REWLhuaXEUZ8sYK4FzzjmNLiL9fmQyYncjqE4Og+uYrN/lphaQwuXugjGpebRtACwws7urqbh4BoycnMiZ2BxkDgIXGWXKo2U1NzcyCDRlTRkAuLhYmRg2jkOXh976TnVwN1dVhnDFVSttK7EWYQtVJAGYUTxE/+oGKmriLWHBK+3vf6b9fu1jvn7W68/psPPUkZPBydThDnJmJjIJMluG1aqpq8BBCFDhFEAkQuiQ3ZHG4i0wADPLammf7aQSet2+HfQeQKzuHghUnFABxl3eb4a4IgLDjeEwuIAYaRzGteaO1A4rFc4sMUYWItMSonS7vH7Zb9fDMGQvmosJDoYjOG69jiEEClVoZ9asQtOS8Nfk/kr4mFR/8drc8Vqg+OdGCdNjY4L9OWc6YEw5W8rqxqYMWPl8CVbVaGehqoU5TtaXRcjamZDaODizMbvbFAY4xJ3HlFVVQkVO/g2bMhh58UY067gfb17AFEfHdRQWsLsnG7tNWl91m42aO4HUOSC4h7pt2nlwKJl1a71+2W/XYxotmauTsLurZ2diFoc6MQ2jDqP7Lq1vh/pGjufV4l4d24bciInsNbVfYIaDrp+MdonWvyLfb5Y/8JaF7z5ZbGKffC1ychUDabk/dy3mkEOQEEmE4cST00rMFJzYHa00neSkbsjqxXkkAsiIiA+uVPEsDt4tWUFECIEDuU2Os5nvN+M45rHPs1lgJjMbBr+97rudavHAnCQEEZbgJw+rujVN2G3S5bP9+jarwk1LVJZ1kqCzm5qIWLbMmZmFRFW7Xco77ZOePvR23kxq/aua+VWUjjfX+6SU3ooRvfEJX38m5CAiu/ORyUFMni2PmdiJiT0QDAQmCSGEEIGyhJ1ARBRYsrsEqerAu7EsFFc9hLLGcoAADqqteFBmBqLy9EMIZEZugCOlkVXyKLnv11FAlDV78mw+mlOGMIOyhECE+bJuV8GzDTtbr/vdNo3Jsqm7szkz34UymMw9T0Glu7oJM+CJsV97CClWMcTw9aXrh3C9wHR3luvfQvpfP0qYS9OKLB/lqmbqABObJzcwOYojg8kdKJDXIfKaflZVM3N3NyuXZGZ4m2J0twllO/wtxBgtK2DZzJ3hpJbdOY3qQCYXY8sGd0c2Z5ZACHUdjy5qV+t2abcZ97dpHNUJBCM4iIu7YwwWLo4zuHi40dzgdgACUw7U76S7zcszcTp44ge1Q+6wO4e/mNBJ1hN8aG9R6pPKKie/5dkU9I3ggJMLO4xciBBZBjNnd3dzqMIUOqqNo4Yp4iV2kLmpmWdHSuYKmLkpipvEzM7cyASpTZvmznkuj50AhLptxr4DOzSoTndiZoCruTLUGA4WZnAQCRKqwLN7XK/M+zT0tu906NXN3YvoiZmICUTqRgAxy+Q8MJVt7+QH0MpcU06bWzRzCe1XoWkclPs3Ga4/67iDEb4Otb75YcRECFVVSexACBSVs6nCkTWHxEPvUiMEBykgRT4sbjlrtjQWbE/MFOpCQVhi5GIBvo6R3G2McPagvX7hw04jGTCae7HRk8frIKKD8yIiEitZPYir+zEqxp3t99jvKI3FMymRIDGDmVnYIGWHSpAgoAlxEpgjU0paLJWaDn3o+7RoD7Dka7L/qjT/raT/FdX0DdIvv7JIaCNtEg2AORGbmarnXHU75ZhiJIebldjNHJ7TOPTZFKpwAyAURARV7XXjxET+6qteC+OnV8LFxWzWyOWz3f46IQQnpALomZFaICJ3JhYhh0gl5+/MTx41nNOwybshdZ2n3hzkoCDByUMAs0ggZmcKRevEWkRcAgNw9zTmNGQyEoebgiRr7vYyWzmTwhnggoW/kt3r///zZA7wwVy8aRW+pqYKwnRAv7ieVyIDhdENpsKkbpRSLlcSKuIQmLx4Z12nNy/Hsbec1SybiTCTEztzXccqTmDK15XfFMPkALLlqo61XC+77WXf7TKTSxRTFzEADCqXFgOfvTs7ezSr3PsRXe/brY59AQHBZMQc6hACkVDViAhBISwShMUlkAiZkWp2U03CJR0CmCkzhl5VVaoI41eo7GvHn2Nj34gMrOzFP/dRTW+FAU7ssUaMoI6YyZSKL6hmbJRG3a7BTE2D5Lbf5N06ddukWUtSkFCyXeDozZI4CMAgoQkHfONGHGqaA3kFQtPKvcjL43q3Gbtb7fuck9oBEWPCbF6vzurVWRCwDmO/TbudDd0UXbNAhDhwDFLVHGqOTRAhNiIQi7CoBBBRGjwnUzXNqsmsoGBugMDF3XAntFe29iB6vIrW3yLCVy+WrfgXjIUn8RfkqWqknkvsohoxG2hSpmY+DClbzsnaNqrqbj3khDRaERRzKEAcs1TzOFvGktSg167L4TQ5Dn23y7vNGKb7dAQJi1lczKp8z8bexsFMnYggkIi6DlG46LFutO31uN+aZZiTM4SJA4mEEKSquWlCCIGZC4QqIsLintKYhr313Tj2mgYzhaoCRBRKNoU5lsxFEYkfMqG4i7P8jdzQXST8VVk6vwLS8Lq6fxNHevXr5D6JhPlptd0m6hxkzuQMEKmagUw9Z0s7dfdRc1bP2dzIDCLCrhy5amV5XLd1zSYFrpjA2uJgCZnm/Tptrscxja9cbHeDgYgCOMwwm/Hk4VGJuiOgIHeDZgxDNiW1PGWYmYkoRomRqyghcoxERAYvCeGUdBi0242p15w9Jc/Zc4apizCBmb2umPk1+P5rwOSrZfrv7AW97XgNSnJWzGdtsxp3tyMVKgB5djdzc8pkQYs/atlN1U3hekCzRTjWy7Pq+KxmMVcrWfEDnE6A5qTrm/3makyjE+UwWTYQXKaw2wGNh/17BwGaQ8u1msFN3J1ATE4wchcOzBYq4QAid3cWEGBqQzfs9ymNOg6mY07JUlLTEvuRO6lCHKEmDiVg8Let6Dvxf20h/zseZd/YIeQCmIg5gFYn7frpoEmNFYAWTF4JQtlMWd3NCnXCwCREHgOFKO0yHp/O6ppABjbTCT52EMjcbHszrC/7NIBFHBQmYIXoYIgdmADvA6sEU7rcCUCJn4nEfXQCc4mwDokMCMBMXMDkrLnbjv02DTmPo+ZRLWtOUIOpE+mEaMNjFdt5NAeXXNPXs39veQp3NoDf/Iu/ftIbf3gj3rm7vQPPwAF3MM/aan7UprGDgNyywYpuSAV814MWLM/MhJmI61lz70E1XzIg/U1OQ9+c1IFEzSmABd0m377stHewFwv31eD+tSvlr4ErqdxYCFxVLIlIxaHuVvSmO1SRk4soMbnbMOahz1ndlHKycVTPrlpu2MonM7OINA1XFTML2VctZVFBr6v76bhTTd8EYd5ZhTs78UqbfeNtE1hCWD2sx0H3fYZnEXdHssMbTeggGAJVDBEKs3DyqF2cxiBkHtebcb8dHh9XTsVpTGOnm5d9Gqyg/Q4E4YP0S/LXi3qa4BmHu028D0x0FwK5VOxVkL065Snvae5OZkhjBlQ4MNjM+n5MScdkw5BTUjOYuqoWVSgiYIAlxGp12koUN/MJTXiFTOFAdnnDgcBrwdRXCStv+pqvP7ZyvjmcQa8e2mEblVjP2bBcVP7Y7dkw3IIUpCo0ZecgIGJhwE2EIwVu/eyd5clZFZjgwdTmZ019FEkiAQTLrjdX+916zGpmJhO1S8Jrqc4JzXotdwFQ0fh+R4KAUwihXsi4EXNVBcDulLMZoOYAs2sahpzzmHUcbRxzTp4zLBdBFHNORFTF6GSzI54tYjE0XoyNOfwAhL3C1L5hab8F8z84rW/VWtPKdRz2n9tBIxWKiXPFcnavaZfh9nlc3/SaQcjuHoIwcwhCYhycRYJJNePZcVVxhMHhTKgqhCCTFSUbk+03KeVsDDcHEzEkUPjq1fndhQMHJOtNzUsSZXUs/RWGBGY+4EtublwYSkbuqllHzaquyTW7KZXICgdtw8Kkvjxt773TcCRkA/MBf/TJKpJPmsXhTpPqeB3AmWgeePX6X+Rgm7LddudDTQaACIcUbZw3NHsSzy7alLK7mnmsRGRCN82yqjJiFQIHci2UJoeYCIuwFzyRdNxq6lVh5etYwGwh8utUnNeW/OvryctyfJUhIqGqonrJQx+g2WEOVXUysgxXTkiYvLRCtHNNk9vrRMLMXNhDYXk8P3/S1MvgSR1CAJmD4UTkDKe75Tldy+up3TvY4FU8c3cLry8hHMT6mg2w4uMfEjivvdeL7SUBiBCIvKm8qYMZAU4Mkgh3ECMTQpzCEmOyKbloxQdlAAZCyt5teh3VHQQnMjdhkorfsLp/dgD5xosi9eoE3WajnQgmeqepEbMOBWglM7MDlnxnvllkig5IZsf12ft1s6Drz/OzzyjbePpAzs9ilBJz3enlu+X5DcdbkGR/ywlfvYuvPKFXkR0m5WiAey6GL2fLgHiGWa9mruYGESEBs4hYZCeu3aVsf0w8ShpHGzorq8jNOICEWIiFvtnn+cZbdbjDw2yux/dmz78cLGUGmRmICyXUD44ZqFB5/Q5YEpYQYwy0OGrP3q14gZ/9KP+r/zrdXNPFB/HRR9aNuHfq85lKSeMVmuGdEPG2BfF1JPmtJ/yF7u5uY2WQg8xJu053t0O3SXlkVVJN7u55Ck4RKFYSIlZH9eIsVI3DCe5MBGY3H0cbertjcBIxBaJIFIu//zan+FUQX054FQExKMCyg1cnVVa6fu5myWPlZqZKcHIyNWJSNydnZkEgdiFiE2ZZnlYX786o4p//yf6/+3vdy004/2BePfSR/fpm1DSeHMXFnKugIrVPSQrHpHb4EEP621b9KyH6nTD9NWzdX9M2xWl87e3+SpuRSbaMy+f72xddv/VhUDMvjB0iYiqihDPKft5c62oznj2az5c12Z0D4ZTN1dXKNbMbkUIgBA6TlInu1OgbeNbblxKKNpDoJ+cSQntzBd1moqBwuDmIg7g7g5gZDiEWcWEKURYn9emDFdf9L3/C/+3/Y9wM1YMPfXWU2oaaUCFjv4Nm39ymWUtNMziRmWlyQSjr5/ikCTE7+EAmfHv0S0woTjPeOOEtufhXjt8dMueqfPOsu3067LeashtlkKuCSByeLU9Ue3fLxMyZ+PJFPw5+8UiX5zNHFo/ls80U7qZWMHYCuZkDh1j39ev+s1QsDm6cEwUYh8qO7lXNMmwu+831OI6BWEpe09y4uABBgniIVDdhdTxbnkSa+Re/4n/6Xw+bZMt3aBXjaoZZTZ6yIXIDbq3b5v26ZlaujQi5N+QUYwBxHtPxObUtT9HJN2gktwPG8soq+6s9/capr0UM5CAys9vr7vrLbhwtsSVR1sIUL1kUkJC6IntgZoK5O3pR6db5y7TPCEf3YlEjLBJCtJyYyc1MkZXG0WSgV/4+CnfDXzdHbwKEh+MOvwAFKBjeNlI/qBarYb/Lu222wbNqgrGDiSVI3WK+jLN5rOpAgfbD+Ef/cvjyKZ3/BjekJ22cH7ltMI4mS1sdyfI05pk8/3jcbK1aUc42bkJ3m06OwJK3L/Kg9fkFzdrAgWAGP1x/EaEfgITXTMJX3Z63L60AZDPdXg/rZ7sxW7IEU2RXiLs7FKQ0JfLY3A0wdzITIifLPvouXn82LJeMVuDGLWIt2qu7Ag6HZtUUxp3+21vdQ6T0Zs4PLDxbNO3cj040paxwY2J1JmKmKooIgQE2z/zlT/SXP+3P32nOK47zUBHFgCS225gIzZq6jiku/PiBbH+VN89p6IhmFlfEC0rrvL0yniGI4MRniwMP823p9cPlfVXhfDMfwsDYr4erl9tu1IEMJb/uTmLFxohMhgcgkYK1eYm4zS0Dzrbf7baXOH0cQFxV0hxTv3cfaSrzMcrJ3fNfTPr+xiZ4Q/TurwArEJHHmmMV4PCi4sr5ZiVfqJYvn/ZPf6IPHzdVTtxVXulu9NCxIbHIsObdOjULH4a07V2Zx94k+IOPmtMLjoz9Jj77MfKg6w2pDpqqdkHlC4nkNVP7+uW/TdZfPc0BgM2ydrs0KGV1UUtmAEkgkvKmwEJEJMxq5o4C+jvczN3cALURJlfP9svTNi5iDLw8a/brrNfu5KrmZO6uhvDVK3uFt+JVmPP1DXv4udjxCR0EwFLKRgCQvhEhg3Qcu+c/yz/+7W5gOX5s/S+w4X62Wo6S+CZXKtKbafrik7S5jmNnt9sx1lKvwuqC7t+XmhHI6uOgj/DimWaV3vx2zMOWVi03DYFsgi99urY3Vv1r109fW/XuXujafZf7PnN2NlN3AodQ0J+SHJWqiizOgQp6mMbMo+bsmhRc1J4bbLvVm+fDvRkRSdWE+XE93GRycTJHoVTJv43meYUpvolPva5Sp1V0CJjvnhTDxZ5/5r//z9LVldVP6OapvvwR47689zAt7km69P1T1MehPqFE+P1/velu4vH9+vgiB3LNDFhhSoMwv083a9s8G/hBE+ecDJutWQ7tnEjU3QkRbzrNf9F7dBn6PidTUy1IMqtwADOJxyhScTOLsRYSN7OUfNiUb8iuXGhVhRpr6uvbfDRwiBqMFqt6f5L2625CLc0BhLdfInPxfP987/P1YJEO+gev7wwCwcn2O/7VT8Ytqd6rjNlq6k5tOYuetW0krpS6KO+knIh3tFhW9RIUbYdBRtYXYXlBqyMNiFXD+379/E/TcBmrlihyqrmOGJONuVotiKuSWbRXz5/ojdu5u+A37YEbOZuap6SaDUZMIClMJpIgIUrVhKaNVR1iZLU8ZuVCf7IA05QKj82NiUTGLg3dGGMgkqahk8ezTJrWIjyaK8jCn+nXv+nMfcOJfx4OMK3BzTp1Ww+wVU3XN0N11H77L/tcAoiGrWvfvrjsj6oqVrr+oq9nTbNSY7v5Ij//o2FWL158PD75gYTKg3TP/lX6N/+3obknckaP7tU6KBBS5GGrg/pyVbWVkfjB2BxQtD/HkyY4wTVny4OampkzT3wcEdy56pE5skTiIMQsmCOPagmaXVXcTMKhSBhmOhk8ISzaQA9X11WfNoxB1NM3ap5XuvLrF81v5pLeGm2+eYaq7za5mslR0w59XnpdL2S+TGwpDY6OpdLTbwV7No6R64ciPPbbZsjbX/129/Pf3jWr4f6P5ZN/7NefYzGvm3tcfTiyN1/84a5ZeBpy29TtIz67V3tL620aA7cLquWQW/8GKOL1nT39bEzK7JKgxT8pAWNx8yZo06eDmApnra4lRRuHSVRqxlSywgcOIdzdBXy0iqGh4VZuXw7jKOGrgjtkMV5d7qskBg7oPL76lhL6A3dvfAVGFjDfhZ2kImFFDlXNs5CDSaxkNoOOI9VcpXB9mfa3Vq9isFQvBq4Uos7Y+G7e1bNvRdY4fzdffMR6We1falVXz/6H7fozrB6kupHr+/mdvz6v2rwBHw3haKlVJUSAHyim9KZKfBP7dKghF3iZmaTE0u5ExMQwMDuZqZpCC0utMGjh5BmFgFNiLypeIDuJ+JTYDU4E83loqlMOTdhs+retfXrt+l4vlbLiUXyteGqC4t/ClJ/Y9wTAYqB2FprK2dHP7OxJ47ucbs33nhVSUdZ+do99xlltv/Fw6tj1fmPHZ5j9YNH/Qp/9Ce5djCcPq+tfUrQ8O5fddrf7nGZHFZ1I1+X1H6Ux04PfCO1JWJuNA52cSN1m4VKhkdzfwhM9rBkvRHvi7KQEgpq6i4SSPZdSaqimo3vjachmZJbToP0+ZbPJ5BIXMhFzIWMdOOR+oJUAQrGdSV1XfwHNc6d8vtl/OOBW/tUHwDw5SOSxYrc0DpySzRtZnYjNdJN8f+vOAcmoJ92jXSBDd2S7S3rxx+n6cmyeNI9/k/bH/uW/2el+NoKZTJ367KdPwuzI44xs04XWh3l8/vG4eE/qmefA17c09Gm+8vk8VBFSUbhzRt9ywyitGuqGpyVHzOSqGSBWZw46NQfIw84AUkXOKXU6JB1yLmrDvdRvEhPHKlYxvp76nKSCQMguGl5n2DoOPIavSfftBgAThkQobujXTijbxcAc2mUisW6Nfk/e0XiVmxO7+E69no/PP/Hbz1RvHcHnp8QtDzw8/Sf95R/kdh6DJf9kUcNP7/nJ+6HiZH3yWN0+1eChWQbdGjvXF3XXj93PdX+t7TLUas7YJu/cbtYaM6oVFouwnMcgRhNN9LVqYi9J5qFpY1XFNGbN5s5unl3d3RQSKERXMu3EQaaWUtLRc3IyMvWCwSgQmZmxWMRYl0pjeT0/6F74Hxxe03qgoq+/YlS/fryepL77/5/5BiKfzePJGfVdoiUkKLz23sfblHdZFgEuYSa79T6OFmZaEa8/GXe9z4+dZ5lD3o27cE7Lx1V6acON8EO6ebl78eN2VqezD5sP/j0Oc5aFr3fr3NcelAK1TdjfprQVNaDTuYdsgHvbQAJJIGID4JCkmpLK6KHi2Mj8OPZdUkYpRSkFE6bkbnAXJygMZOa5cH0MbiXFyQ7nwiAh1PMQmJCLBArG8KrJA0DhToL0JvD9Zx1vIDyvgRDf5PmQw40ZsyVqofZI5ufm+7z+Ev0tp55pGdrFYGyjhrFDD+yfYf1Frs74+JGkrb/8uOsHQu9p26Uxz1GfVnb/e9X+cuhvg2Lfp2W1H6lJTVttX+YzjwpSBZQkUmiIIoeaxqyXVy5EdY2qoVgZgDz6zc347NNx84Xde7f97r8vy5Owu4klXVTqXlUVDglkWpauGtyJzNzVp8y2g1kACEGYZ4umnjMBPqXaS6bxjdrM8PpCPoSmjtcfw9fR868v9km5v3p9IuEYAQoyImF4W6FeVbN7Xi/SboPdGtSyLHi4HUFkSCLx9ouc5rZ5qrHlyEa9H92bXX25910+e9gO6LYvsFPMN2n1WEJHnIVqev75rv48XL/sXvys2lz7O389ntyrheEOqb1Zedpz3pNFHbOnEXxrIiwVnM1y3mz02cY//dx+9IcbXs5+4y/Hiwf64kve7gYW9kKtgeaMKbOCiQNqBJiUwjdhI3ImqSqpj2R1FutZABGRkbl7wITlv+KPvmZ17zJZb5Xv2xf1nxPHHyhAZOZEVLVBWhMOyK6S85B1r82ZhAZWkSSv3euomAeN/dER9n1OAy5O0uK42mxjFNr90nIHWeSbGxjX8ch5N/TPq32vIeae6nTcv3w2BL1Y3RNytYE2V7niCgYnZYGqmWMYkEY1EEcxzym5RSzekS9e+D//+93Fo+X9h+E0BPvc95u9KaVM7gYUzraX4sViKU0n/hczx8hVRe08zk6r1UnLQSwldyInohGIAOG1PhGvSf8OvaFXdeJ/zmPwtzYKeF38AAjETOTmQdAwbj/J45AzWBGYTM3dCD2QCX2ObXC43eSnP+vCuQTP15/XPo4UKSXLfbA4NCfh6rNh/6V88Leakw/rX/2eVxc0u2fdMz49bb/8JD3/6fCtv0HNzFxlf215zAbUK25rbttqS+P6JqeOnSiNeXuVQ6h4lVjS6tv65Z/QP/q/7v/afzZ77wO6eH+8fFptrnIAcja3SSWYTRK3KagiZhGhuuHZTGaLuDiJIjps8s1l2m1zCNI0oZnlqglVHZkmtvDXPM7XQtwDRshEDvY36JLu4JK5wgFI/ioQXR4pgJJlJoCYA3La2Ri12xlVahvKa938nPaDrz6gGMfF/XaUcXnM7TIOwW6/lP3L8Ojfz8Ma/ctcL+tqdOksVXVzHFrC7jpX7kQWRXTcS9MMTf9P/8un3t87/ra+/BOc3G/u/XWNjqPjeVWZsIKxueF97+HIKTgHWr/sbeNhNjt7bx8a/ORfpev/0/q7v1V95z+K8wfM7bh9brTnrNkOXVecyIlNTQBhDiHULbdzms3D/KQS0POPd9cvxpwoq3PALXEVvVnw8qRdLppYB5sI9l9ZzkwIQu7wYuXftujh9FZ98wZY/bXchYPaTPMcDNJ4mMvNgLTLuMjzQLK07TNZ5ly968NWsbd735/JnGPOZzPZ8557caeHP2h2f7pVo9m5hifh5uf27KfZqd2+48LRZ3n5jm+/0H/0f7nKartN/fD93Q9/tvq136ibvzk0Uo/7MRA9fi9uTlNgLM7j+KE9/9J//Nvp+nm6+Aiz1lYf0dV1/m//P/b7/7/46Dv0w/9pWD4weg7rjJXhEJFsDpCwEDxWVBoE1S3aI1FNl7/Kl89zhopQpsTOAEzDcGv9vtsvx6Pzdn5Uf1X6E+h3wBiI7hj1r69oPqQE7A2tc6epytuLs//aXwlOVLFwdz2MfRDhth1uP5b5IwpzGbth37skXjzwPITO66PkDz6Sk8f4+O/3ux0PQzOud0/O6u5kWe3NXub1n45Hx2J/Ra9+PmjKYSHHJwtDbOd9XPnVl6795sUm/oP/+8vHf7/9K38w+/Bv8v3vybKtEKxuJYJi5UaBH9PlI776ZHj2Y6yO6d65pjMensQXn+bf++fppot/9X8c3vnQ4jrqNaeh1Ma6GySQ1DxbxMUycM1Vy8Ouv/p02K9TZljprucH6qqpMCfH5gZj2qVkbylQnro3gTAVxpfokL564l0HMH+bX4SvmW5iy+Ow1rzXOCNnw+giCAu4EbLp3lenVZjlcUwctR+Hy5/j/ElY5/76S7NI9XFXH8WcObZWf0vTraZLikdy/nh2/o51t6H7fByf6WxusWm0t0fnUSu5vfFr1n3f/+t/2D3/kf2t/8PJ0V/uqy6Po2ShumIGce67fpzf123PBl7AU2fRcPztcDXHfrTf+8ed7uYf/Oa8va/jlaXd1NWsqqlqpJmFGDEm3d6O66d5v1cXgioObhEBTAyHmyUfs2pWaHorxvm2HNabcizZ4b+YX/Tqo2wcPW0pVkJz5qS6dev59D1Kg7FoeyLXn3R4IdzE9lgWj120efl02P3peLPT2XxZ5f7sPQP59ul4dF9oJbfPMHdEHpePffW96mrFL3/XZMf3f8jmqnvZfIGZjquPOBl2z+lPf3zD/0cM/3krM/3sX/TLZXzvb83DkX72b8Y//S9u6lU9+zCcftTIjJd91K36ONKJbPp4+yX/i384vPjEvv83mkfvcxNUNEwsIc8iDPftJm++GIdBjWB3dnmS4sHLdLg7k5lR3zv55//qG+X1OgPpLo0FTJHbK0yiMILsjufzNbkDZE68vklf/Gwc1cfaNmsKbrY3WmA7GmULLM9/nnuFz0yW3Z/+v673H7Mfq2XRqjs+5e1Lr8f5w/9A1j8dN59a8y73mdJLv711ZXt03379b8753G5+zLwB5qgW6C+D1RobGTpLmp8/HfY/jhLJ3Ie1tLV/6/v16bebL366fvYHePyby0f/I1k+8s2Pc4jN0Xdi07gl7RJe3uDqedx9ketIP/gr1a//Zvvw1yxSABimTshZX37R3zzvRh8155wzTw0ZjZgcE/EHDiJxKl1L6c+MbL8Sx06S96l5wmtZ0leg9Dc+SDghJY4tt/dCHZl6DlFyhW6v6LG9Rr/V9sROnuC4Ydlwy40ShiBn79ZHZ4v+du7Ks1PMz2jxPqWl3X4yVBHv/Ydy9gPl6M9+FX/v73XpZ/PVu5Uu0+1LevpjunrWtyu69x2fz3Wu8VTa+anKMftCz76P1Qe4GdMnv9yvezz8Lf7u36nunXLk1L3Ez/6rta7NLUeOiyinZ2H1SOcfopvjd34n/7//y+3l51GN3UpHMahZ6pKaqTp5qZhgZg6BRShElsASmITMPZXkjX1N7wMopdj8NSS/YM53jN+vUxD/DNGXbKM6MpyGbHuPERBXC2Oi2DonGzJYeFybPhuw4NlRff5Y5R2PbOPLsWpn5/fqMCf7WOcref/79MkfuAyILo/ux3ttSmRpRz/7vc0jj2qkeZjdp+ESv/zv9MUvqUFoZ/7wr9Wrz9E/9dmjpXG2W/elVS3mn8v4TGXMPDe74uZI5xfCjX3543R6IYtTWVSuymGuYebjlV4/wy9+Oh4/aOtoyHcwjQGw0tvhFQbGJHegfTGUxMymSqBwKCt08qmTCBkDmJjtX6EFvLYhXiWGyvP3V6HZXaTmr7ETTbNaVjPdYHupytxb1lwPLxM/sflRdfs09VvUyyiPiIWOfpBvf0KDZx0Aqh/8lXzvcbz+BX354+H4A5sdt9/927550b34A2OOi3O++AHrbX72I9tdpnHvt59YvQin3wrNPfZ9Rqy2TxV1nj8Ipx/40TyuL+1q9KaWfG23n403l3ryh93sNO//wPYMkmq8HAIHAemoGiVGtMZUy3CEXecf/0n37R+G81Mp4aaBrYQ1zqAJiWYmZrBMTSTh7K7OCgeE4Qd/n15l1/xtEPNbV/Tr7vzb3/LGM3Metkk7qJEJJzc3CiHDaxvHlPvry9pzOn3f04A05vqkGleb65/m5tQuvtc+/lDGjdJ+TFl/9buynKfv/k+ofVLFLd+s+24nL3+Rbz/11FWnJ+niA2+OK7eZjDdt26rRvR96d2PbX9iz36lOzjU/6POY5qsGra6v8i47Kvrsp10TTDim69DOGl7F+nqEVcjsRtVcANgu5Yj2QjB66oIBJFa6kGR91UyFJ5p8QSM8hAB3zS7CzJRSBmDmgQhmxixT9oUwFTS9vcfMv+VxZzPM8shmQpWGObeNh5FurnTY52pl21veXYeTB25OuzVHlxhHGcYP/pdHu//z9fYa4XN/9rvD+pK6W6OVLU7i0I9Pf16ffURyml/+0dBvWWs6XtRH95PlMAy0PJVtd3v5K3E2zp7+ZT5/nOdP2vrcq0DOLLHWnH2T2wan93l93V0/87MHiybyg2/Ro/84Vyn20tQLqTgz8eBEGBeLQJFv1+P8WKhVTuSUESREDkHcRiYGc3FyyjMAT3iXBEI2d6uqCLgqwoQ2u4EURIBM6ECpoSECpia4dy7mROAu+WIzYinu/yGJ+PWMPIHEzataMrObVXPvbmlckoUw7Hv30H2Rjy+AWxuudP4RVzPqN3LygN//2/FHf2+4/Tj/eONn74XmnPfX1PUJaD7+fX3xcXf+fjx7d9557nI1O/FxPebPpbbk96LM49VLckvLJ7S/xpe9iFvVOt4Ju+e5+3lCFU7eFccYJBzdr2ez6uIRn327OX1Huqv+5/9g++HfXVUzC87qJNGhFFtf1lnW4cG71XwO5+wqrghA1ZT8FJuCmdWcI6xoHXcRNxZEdocnaFKAAhwkCk5uYgr4yFAqpEuSkjW4C36/4Sjdzb4ZbyMAZApLCKB+sMoF5uJs+7x+XtcPvDmxbk+zeUW9a2fegveuL+nsh8sHv+o/+d1U1TTsu3DcPPrN+vLT/Rd/gK13NsT43NoLOjtpHNbvdBhnw5G9uNZjDxffF/tLnduq3w1oTJd++3Sga8LnXp1WWFDQHGl2uzNzWhzPaUGn7+fFUb78WPcvObxP7E5bqpYyQBFDxRHJGTg6k4snsa0E2Uu1tDtIHALViWMrTA6oKTmbmQhVATnbmHTsPWdV1aA5j6MNXcrdLqWJYRVjiDU3s1DXkYTJ3EvTx7djO5ik/03+PlxNdzvbbPu6isNaU6TOsEu+77RtAgaroskY+zSQUB5EOyyO4xpptmmPv7P8+E+2epPXg6y3Y78TQ+jjrpGwThTWkVqbnfHiVC5/Yv11rs+x39Y+0Pw4Q5uzx7br6PKTLIlmK6gDvb/zHdC8CiCEfvmlwpoH36NnfzR89ju2/TLVx+HiO/HobF6fcFNbZleJBghYTW30oxM5uUdsxogl7BSR0MZQp7FPrqalmbQ6M4hYhEA+9GnokUekVPoHI7z4fL3b5nEwtQx3YlEnYIhB2paXy2p+FutZVQhydGjIeCdjIjp07ppwTgCvoaEOwIkyfLPRgeK4t+4yOcWnPxmHVSVEzr445epRPex5/ZSbC+nrPLOKlyluSNP44NHi23/VPv7XerMeTk5yXie+5+0S423bZ78au+sXtP60eucjOTrB6SPC3JuTtP2suv5ETr6N3Xa8/RTDldZnC3HdXOVuLb7HYpkf/kdBmNdXQep6SMPtpT39iedef+2j+vJX1nyIdsGZsVPOIOuSGZFLrOTkPs+iixFgTOQKgOeLpqtzHnRgLkaYjahiy+YBSt4PPnRTM3l3uHu4uerGlH3qv+oGdRAze04+Sr+29TafP+DFqir16MV7+SYd9HbF46SKPhmSmHg8jbeb7GeRZkH6sW58VdO+yrmDRF0+YdrSvtdgTCnUy9zO9d/7ny8vfiv96F+O6dpy56t51H6FlT5ZVIAMacBoVy8tHvkZi+6q5VkMhN0zDQiA3H4xHJ+GeErDzl1GXshtzv0W3T9pfAjjTXr46/78x8P+eWzPWSWOdcBx4AX2V+oz1pqSWzZ3o0okRF2smGUiTE10RFAVqD4RdCQuZqaqaiZGTqzZ097S6KZQM8I0SiIMg2c1otJRzzElfglEiU04521tn+fU16vTNlR8KOj+swX++m4gOMZ91uTjLkHIjEKozn9t7FWHS0Ia99diK+l21nfMW+PBe3Ht4UMKCyb2qkr3L/DTK7/+aXPykazmnQqDslRd1FjZuA2zm8HCZ7x/JnXVP/hWe/Ru8Jk/f2arltsTSSYn9Xj2pL76ybbbyNmH9fE9zTugsdP35458+bOw3uk7fzWcf3vm2ZcngTacBvA8Ziuc0KhuQ2f3L+rVUYBnEPtdEEokzLPjql2P3bVnAriw0FzV8mg2TvWz5KSWiykN4zi6Wyl6nmhvPvUFcHMXycOwz2RZU8LpRRvbAFWA3Say1OuclEn2U/vw8iqr2narUKfoOScTyUxpT6ZSrwxrhhg5ELheat5KiLy96fy6uXjXwbnb2i7R1afd7hnCXM7Ou0b46qoCi3kcau1ul9cvhwdPeHkR0i56DGms2h2fnfdbG5/+Ilw8kUjV7fNx+T5d/GCOH+d5HWwIF9+ul3ObfYDLP+TLP8bxqdRrvvdAAlgqJ1eTmHLuRupGz6N7H5vEix9oFUym7nWHmJ9AxLNYHx11unEf2XmiHObRcnYzhR3YVMxqCiAUSdmbhR/TnAV3M2MOAPdd0me9K5899BhLsvgvoHTcQUhJNx06D2M/aCd9z4hkc/SXaVEjrDg53z5P+w3OHoVkySUMtz7u9aT2oaNf/lHXf5JePL2FNEdnOu5o9qiePd5vPma+kvlHsvyehF+yUIh1aNtuflzlvt/e5ia1IYbVcdq+bGaLAbDbT6VayHu/XsUZ3T7z/np3zK1kDxW984OgM6x81oZYkRIRVXEPbHdpvfVhCMMW1A/vvcdHZ22EE5eiuUPLQXMjZ/HFSbPdJH2ZM9hN4Z5ymRphDJ5s5yEzFe4o30wFpXQS9qm8tDRO9ZTNnMjz5qavazm+F0gUdGDlHTiEk3//BpEfbnlzk7uXse/VlNsT1i/3oRVaRdskYpKWPFnuPStVNUIlY4fVWWVPbKjs4390/fyPu8Gq6x0n6cZZrZe8eORHjxrhsN/3KUn38xTrIDOnMbnw7ZcehMYBw9Blpf4mzx77/Jw3vwrPf3/wncijcWH1yf0wf8jPfubzmyqcaf2O7J7aRoYzD9XoXPF2N16NfhtidzPmtc+P5J0fVt/9/ny1sNIDZCpdOBSckAu5NnW1PK3TXkMvRp7V3MrgBTcrJwFwYnJD4EKMFhZmcUw9fwxQEhJ3V1dVKITIMIw3V1zPw+xIoAY/9K965fAcehwDBU3tx3S71QRUSxvWoGyzZSCJ3fVYz6nvefciefLYhgfnNmy9d/GkfIwuDZ/+o+7lHw7Ng3jvCa22sy9+NuYbvh4GJb143M4X+ew0rvf67OfDpYbjd7iZx7bKqrRZZ+tJt5Fsn2+9WaT2cVz+uty8lC9/Z8BV07vX7MMn9skfDw+/rY/en98+669+puFUzl6krkdgqIddz3kvNNJ3f9h+7z/gk5UuorMx4OxcyvCnpuA4TMAArVaz8Z7Zl8OgsNHNSLV0NBfVPI2YcbhzIPYgwiIUnAiECEPKo46ATYl1c4d7Tsbgvk/r276dz+ntid039I7mvNtkYoQGYB+H3A+IC775bMwBVWsMs1F2O/M5c9bdCzTHdHREeZ52f6wvfy/P3m9Gx3Dt83O9/y7tnvX9EjHK818MTcTZRyGvTZbNuficw/EHo78UjZaurbtNFvq4DBLi9nO+kurd/1C+9RvzZVW9+KQ7fq8++bb8/F9m3NT9s379lOKittN+eEg//x9wztXZX0qLd7RxD5Utz+tH7+qDhbBXpU/S5E2Um5ymDLwa3BNjtTqapbWmrRarwEzmyDkXA2FW2sR6iDFIkNlKmnkUEbgPfRq2PHBOSVWdDWRUcrnmrhm79bg7DYu2wR316uCNEuBcWluA2HYbu770Plm/MwZY2CvObsnQNKS7sDjJNkf3pXVb2/dcs82WygFpS91PLSPzLKTLFDnGLdhlfj+uJLj1qQrDdfjlH/RxrBffisen6fYT3Fyi+2xsJcB1flRL9ov32jTq9ee57/LumbvR6gE3TUQ2GUhSd/FRs3w/nn6n/fxf99UHi9uPKYO//5/6O9+PVbCQMxtCTHwZbm/7um6rJnBFTkLwqR54IkjDddr6nqmpwvK06voUSbLlAgu7Z5HS8Hcym6GuZbZqlqd1HRkgYrcF72vdrmnoZRySJrPsBSgrvN40crfP8xnw5nCzV1Q4AjM00dXLfHOtZpSuMi1Qn1mA729MKiJFrKzbKa8iB2EZlmdVzcJiPazTvH+5rZZ6+6xp5jh+gNtng3gVFxLN97fczCIHpy0HzdKnq5/r7ZdVvB7aZb2+5aMHzel3ebxFu+pP2kbc9s/yp/8Gi+Pw8K8OV1cWPdJpj1zt+nTxeNVlu31Jsa5PH6bf+E/0/mOtesJW85jduXO7NSOiGLuqro7OZ0fnrcQJ5bWvQSwECPNsVTW34/52CBKGlOjQOxuvei0iVDXNl1TFMuKMyWHM1Sw3CoK6GaE0eZ6wTxJTc+85u4lNJR1TVdSB7E9gIHc7GntqZrK5Sf21t6HCQok1EObnfP2rMQbeGc1bC5W2Lc2O2Xrbdb7fW7/zL37Mi2/hnV/XcaebS1TH87oSdPveiLNwGI6OZ/cuKC5D2vjmUjv03DerC85n4ts9egqhSl80HgkdyYrzaLubtNvJ7jK9/Fl3flttX/jQ44vfGeJpc/rDMDvq33kv3rufeAfdu2rpykuAM7OZpmTjYOOQ+344vZjVTSwW9Cv8ATNjdq64OgrxRdTRiDIRiQgR5ZzpMD8xxKqpq4ZdADgJGFAIKIigdnfqjaHqqnASCa4A+TiqK1gILofygKlehUFwHvd2+SyPyclce60fhiSZ+4pcLr8YZhd08muhu+W555ysWbLH0O2G7XOKRyqrsP/4lsVub0l+X48esyQ+PbUuDy/+SHdWSYU52/qqrwOvHgZLI8MevlNbwrxiWdqXX/jVn9brjZ7N6vd/o16eNX2XB7X1593uedx2ttlQ/8fp9L3q7EFdLaR9yPfexfk5FvOe9+RZs1oqzVqtuN0+lbqYJrWkqqOfPJ43TWRXBszZQAxxB5DNSMDLRbVe9uk6x9IGgMjcyzMgIpaSXXFiYhTH3y0ECW7CqgyAJcDUoc6QAuARQd1g7lIG3JQm2YeaFnentNnqeu0kqsmqGIdbvXxGy0d92/J6y6mys3c9tKa9j7sQg6ZrU+a9+hHJ6lx/eYvO8lFbxyU9/q3QfZI//ZEOt1w3+d5H3IYuj7K/DMPLfP3ZuLxf2ZiWQgjMa2nupfYdkUz0gk+fxCcf0urXZPc5ffaT/WYt/R7RZ3GeTt+zD36rEhFpqD32xRwVBUrqbK5TU/1Sh+6lASQAIJsLM7HfXncGnD9q5/MarpPfU/R5STQqMaiZhWGTI1xVyxzLqV2jQAQhpZxSiqG0B5+al7qXqpOck4/JRlU1oymipmLozY24QGx+yM4XCMK3O9vtBeKaKURfrGDCoBROQxqcWouzMHS+vvSuo8tn6dEjqBPNZX6KYdDhC8m9VMwzT/cftJGqF592vKbmXarF9y/z1XOan1PVBj8zacdu8Jvn0s6rk18f2h5jX81q72WQyGhSdVzVjv3edRdkT+EBL9+35V+Ks13DvR9/P2pOjVBTWZCBTN3gmnMyVbhThk8IYymxKNUiyUHe3dBtRSGgriIVcKa00SQqE9DMKdYURHLOxTQykTCTeBCEKCErhkHrRqNEGAjmblC4k2Ygmw5uidzIKROJZheeRA4P7laWPmUDyMm3++Gzn/t2tEAsRLnD9cfd4oMa7PtnboGquTv7kHK/FWrT8YVQG+qo+9uxcYxEo9G7f71qxjbdqpt217l+OJfUh2YkxXCFmy3JQ7bGqHbuaNjl6w30JwOtSC5w+3T0wHmEqt9+Pl7/ss476/c5z8K4zW0nssODD334UYZSeyRpndrgIuaqIM+qqq5KE0W48MnU2ciYHGUeaIRzstxtu5tLnJyjqkp4JHACFKAQkCFV3Yjkyco6AQ7TwvCwjGCjjh1yG6tWmNmgFLwEWOqsTiAnMhZXdSYSkRC4qkTkkMcqz4LZ3NZrfPnMX37mzSlbk8IRxi+q7ZXzvdzOpHuOflCf2/VzPTmXap77y7qOw6xG2hDvJLSgJbxT84An4fKXef2Unwx2/EPuc/7sj2Rz7cQ5BHv6E81DpkqEeH4vx5Pdiy8W23/sD7/H9VE+O6s3n/jN9ajbdvlP9dd+c7bZ3Nw+JXevH0i6Htd/zMNzvPs3Gx8GzioNMwvBbKJ6WBmRaIUIWBSqAAxnGFGGQdWd+72PNjjJ8Sk1NROrZoVPTMuaRdsgM8SRUyr7KquZQEotUtDkqc9pSLlhdsrZhs77bhwG7YaUtEwOdZRm1iIskIBYvza21wGQ0vjiM/vkFym57V7YchUrB+9laNLxd4WJ6oXP+jxsmDjOFvnlc5HRyW153lRHSH2qT9hDktb7F7j8HKsHR+MHGJ/Z0NPP/mG6+qL9Yj3svZoHq7lqTqiqab2n623avpTTe6F5Z9RLXH+mTSc3v+rGFG2snvw1+/Z/HO+940e38/V/1eMeLz4wPqpGije/SGM3xH0MGg0JBvdpHGTxW8xARMbTsBvm0g2f3ZByVrfAIY0I/Zi3Nlw3xxe6PG24cuTgag6jjCrybFUPmzSOVjwah6mV2lMLOdlYo9dMHXL2Ya9D52kcc7acXXOhrzFAIECMolIMdUMsZcwHAaSwL5+N//q/ybLws3dw8qH4LI8d+agcmOC7K70dXcRCLXmnkjywzi+a+VIpZ82xOgqWdbcO6dLDwpq5PXyI9//Xi26TNyld/RPo+fjdH8zjEVZHYXXG997TMNdxjac/qy9/nvtnfa7Yz9Uu0SXebOjijOQEi7Y6vkhhZbNzW71LfFVzl8OMuxcZYhaabBKaTJIKdF5GGAMsQigtj1wLAlbKbj0Xa2yFLkjkxDTqcH2bu63udnr2uGmqVEgmQIiE5aoZt5ZzlzXByUyyErETUXBX09DtdNylsadxvBugo+buzqoTllM8pRhj08ZYi7/WgHc37P7gn+kvf4ZHv25mFNhTb8biI2yrmbDuRtvL7ILrhcVBhi3NqtzMnQIqhH6fQyVjjpZ0/WJojvPiqJlVoQ6MGYUQvvXdIbfN/ffi/DjP55hV2ogQV/5o/PC7utvRj/6//Kt/5vU5JbLjZb7PfDzDbc2//L3u+me8eticPkk/+l0XpPcuYnNPf/UPuqMPV3EVGH0MJqW0rIz0KlQxAzODMKoRl74j7ID5NFiodOMhojS6MXmgjlN6mjX5/XfreiaUq6Lu64YX90NKoV9jMBMR85KGpQCGZew3ZqN6ad85lbaUFgUmIgVOKjNxkuQ0kuaaSYrSUcrPPvaXn6XVExhV3Y47zU3FsvCuy5ED1aDIPsSctWnNCO5cN8LsMRA7kJCZup2evROl0qsvxGslj9XSY4XdS1mFavVBOH8ytMFDFoZRdmLjHIgoHtmT76ab30/9Nhhn2hJrRh/ahTQnevuJ/eyfrk3syvS0wb3vHK0+lGFEOKfQpnmQxRxk06zWV9N9mUyVhSWwGcy9iEPN+dACwFwJZE5ugJn5oJkun5ome+fX5nGupABx0LBoG36Mba03l5ZHlwBzY9YARs6qGeZaVB0mLooQwZELfiEiZQa0Kg97evl0cMfyiImp78c//RdjZDn5Ngo2LXOY69gjIcSlO1tzWt8+zcPeq5YsE5BFQJrSPm72Y8Vio9nONY3Je0KFina/2s+H2JyH5tjvPZHqyKMzpaSj2lTYDDCYmbLTiDFBO/dzxl55LnSUH1woFnJ25vWFf/pzDZ1y2758kfV3vF1Vp4942cZFrVXMNnoubY2dyA1kpTmAuwXihAPpRsjtle8/0ThY1BTmgaITuen6Zfec7eFHS64qmBBbTbFaUNtoPefr5/tuq24RlAIzjylnNVUFQVgm1eOIUUoTaj9UhRVTOzp8b+uXSarQzrFd+8srNfjSUNXimppKdlcYjRB1v3MdPQ3JYe2yIc8Mk5bQmYfYJRfhasEeOLQ89inIor8ZK67V+v0Lqhe49yGHme4vu9SzZuPScN6pjLcAZyjWvyIdJZx4s2qrU5Va0yZcfZ54H5bH+f1fn8lmuBrZR61nwmv88O8uH/2WR9ZImgZ1Zc3I2UXIfIpsmflOFE4wBqtH4hL43GX0HCgAjkGF3N0G4+uXQ7NqTt6pGcoMVbDILFKspFmF9Ythd5vNwKalPJSZA0PcycpTmOq2aOoSQRyKoXUzT4B222EcNJE+/cm4/0LVdLPj0YwpdNe6eU6+c86adxjXgdlP3oky6zRlCdrOCELjDtxhXofQECGNu+xZ2jbd/74tj8cBNMx59piapdstWSe5T66wqdcec2AKzFXIFG5+gv4ZLy9mEscXP8u3P2bfjfWpPP1RGm5tdeH3v91++z9tbvf29CcJVdW80zTzdrFkRqbsOeXSz7uAZu5cgHsXUnNThRsRSKaEqWKaZlsoHVRYsK7ZsrrlnLtBn3+x398MhmST30SWQ0BYLWYP3z1696Pjx99aBZ8aujkzlW61LFyCaSIvG7B8JZM7kcHYWVUDCzP3Xfr8Z0O3ITvLbRe84b6n0IblY6SB0hC3a3fIybHpjiyzzMFRJDpIKYomyg2lverex8ETZbqxxVl186uRBj/6Hs8vaLwZ+o2m7AR2K+O7hANCZI6QulrGfPZh/eM/yJuf5rO/Nr95PFYBxx/F6lQe79Sch2dC2/Hx6epP39//7n/fM7cf/cd+73Hlnd3ckCupTTOBS2Wrq0+sZKGiZw4EBgJTAQMOmAIxcSFhegEJzGBqgbeb4erLXTWfS3BmdiWCFCZtGQ8EiyFEAhEZWZkn7S4ClhI/ldFlTlyaCJATO2zqByNQzjSwVHz2g/zy5fzm07GJVIUK7P1gRMS1KOtsrrMG67WrQdWNrBYOTcAKOrqRpx1GYhwrroOIjdt9d0mnH9Vn3+Uwar+zQbMXXjAxibOYBCH2ECVW3Dbh+39nvtuNv/q9kdr2/AOynJNFusT596ieWx347J0ZPcKTj8KPf1uHl+Kf03LOWcOtSXa1N0HKIlcR0eJ0opS9EjmcGYSQdKJ+EFn5E5dtYoUNrqoO7K7zuLPFcSi1VQpH6e2tKFWHgYFAZMwuXjrdklPp8F8+naIHIZglhReGkDuYzMmAbpP6K54dh2XdLeYxjFQfm+a8/kWgIz37gM6WFgZ2T3EWtl/CttlaXi6oWZl1lF5oJtPoUvF4pbxzWpHU4idSr2TWIr1UTaVxP9yNeEKpYpSmjXVbxZqD+OxdOv7fjs8u/dkVXv5Ytvs8m6fzs3E2q0IlIWqtVj1s2//V2VJT/0vnrUdzjnWIfdx7BpKpO7EQoHRo7gI/BJXufBjCQCDnqYCd2QESCJyMmSYjoQ5jQR50ezO2qyCQUoB4UOMGcgJCaSXDcJCXKbIorYHEQyAJwUVN1UdmR2n9rK4ANGm/S89f6ItrraswDJgFuR27cK/lXmSXc7Tdi2zONmggpEzbTW6PY3JsrmxY0+3LrDcc5pRzbueSR2pOWYjWG9/BsTRTs0FzLrrYS4USC0mgEEgCxch1DMIg5up+dfowPdgNN9+S/a0jG3KAaSGACcnM+C/9Jfm1R4t84/MquENiCg2wdiISiVPL9DtnBnArA6kmegcRsd91AWQiYgFNVUHOpa88wdxAZLAx5+1NOr5vHG0aQuUA6G6OQ1Aqc7mZyUVEglBAXUvVUjuPIjIMursdOs1kVjLxOFR/7ndJgwxq+8usLec614sq772KOH6f9YjW13b9jKpjoaSyyqvv8r7Pw5dh+xnmp37+rsy+F2Jlt5+yJZNjifd8yH71U938Io4fYOhKZ/mJ81KGiQWhqpKqlqoOIZaSVlI3V+IxzKCYaT3osMOgGEczZRFSAu1s6cvjC8a5ghjKYF+eVtvbBLVSfUZU2uk5C0B26Ox2R67hQ1qq5BOZGRx4igbyhK8X8oiSZ6JhZ6n3KpZNgQNn8CB9sglEYuEQKNSYLav5oqqrUHizlQgppb4vifap7svNPPvAR6fh6LF+/Lvh5DfMBb1x+sIWF8JHLIuU95bgTpKyjZ8P/COsb+R0GZ78wN/9Pi9PxwB1tfzIO9esbEopY94uXp5b3TC2k2NXprmREJhEhEECYhY4a3YIk1FpkW+jjTfjuEvDkPIIMiE3zQCQxmxqVQ2YuDKJAmF1XG9OekukPg5uBmGqJJgHsuwEYqFD0ykCYOoSRISIQSzETEJcesWgdBmnyAKAHRKzIqqqs7CX2rmSDTvweQ6JLvLS7dLBFIhY1ZxCoY7HwLHyMEABF9ZsXgZy7Ou4TI8/bH71O2PlVcX1kNM+j9tnIWEQFnO5WncMG9fW/bI+mvmHv8Xvfy+dnEvwATee1J2VxVrn/daHDVdNePDAH31Aiyg+Dt3AZrm0VFZzMnKCMxmRqZUW1IUKZmY5e9dpGj2ra4bqBJcQBZIw1c/6XR4CIIttfPTOUYXtduNxlNGSEwBGxQbzXFIdr1r/EhOLyGFeKrODuJCLi3dUAmaUFDnM3VUzocJrxT535MMwGXniKaxw5OzjYCEyi4swOyRw00q/SSLBCKRGgJGJ2bjWk/fsh387dqC6RZXwfMtcuSh9/tNc3bOUq/HjnG7kW9+Nf/Xv5tMzt12m9TgOBGSCMANB1YhMY8hBPAw4fdCcnvmw4Rd7slFG06msBlCzrJqNkQr0VK7cctZun7u9DYMOfRpLV0ctCWewOXOceE/TwaZphA6rcfadMH4xVFvJIzSTGatY8uSZDvOppgIFd8o5A1wFBkMY2cyympoeeu8WS13Mq8ihZu71wyc9FwixNPgpk2BATOo5G4ir0ieMiJglhlCHpCYKJwbUnRyZu9hW/Gt/WW+f0s3LMT3L9yJXD3UzpKe/lKf/KlCfH30YP/rftB/9xrgKY/ep5aTk5sYkpcET50QGZaG2JsB01PwF8aydNfWs0t5Ktd/UTctHM5CScU2JM1wMbmZDPwyd9fvc73MesmpW5ZKMmjzpBkLkyu7OAoB0xK/+0e3z3iA4/yGO2tBE15HUJYGg7rFMOzChycm5E4izoDSrVbMMVQZKDp4KKskigAehuq4Y0UufBCo7ywtu9/qcxYk6aG48VQDdMakQgsTIo5TRlwCIzAAzUl57PW/u3cfRA/4MzeYTHV7Yiy98+1Tf+Rb95v9i9vBDncvObtL+udmYTciMBKV3dxmvx1OQaXCMIN7ejOuXcfmQ6xXJDbgnc+AwDsuN82hOMLcxFfTJ+n7Mo4+jafac3XzqnMPCwaiq6eiiClUgFBqYgbNRvzvjl//Nnv97bv73bf3hMOdIkQDz0WojAkcNOadSwqMKECoRInZXM3VzNZjRXdsE4lIrRwCJSIwuoVhafG0m3mGaQzHaJX2cUqKAIAHA1FfbHU6hEgk5p2n8BuCj6ai5Usl5nC/D4w/a+4/1l3/of/DPu6e/Wz35gfzP/nfzR+8M+6e0fpptb11p6K0aPIIBnmbguDvfkXaF3KEuNy9HWVB9LLPbKqVBVQBXtdJ5LmeLCDmDyM3F3cfRxl7T6KquZmWmuIuzSHBZHleLs1CI2UTmGfu1Xd308ws7+89G/Y3GVp3f1nuFEaSSUBPPIMFShxAkmecBoUDCls2yZnczAllZ8f7aFOliSMskuobDpN0POmcK5+BAKJC1gShQGSHvJDByNTMrQW9pPYYAjpBEKRVyFcGYjIwYZuPehks9f5f6J9Vv/xdr3oS/9ndmT55Q+mLcfjL2XdmfDjCYnNWJJZT5Qz4B6EKZ3DLcbKDBtlx9Xh19S2YXomPcX+cxZ6oYZCmNRIw+lyaxipRzNsU4lPakWd0cwkRGZh7qWTh/p6prcVeQ9/1w+3S8fJlclcVOq4V95MHIsw9qIFFDVgFpiIFXijFQciZPyVwN7q4EBVHIZqZlR9pEKoSDnZjKyK32qAohEAhMrg6fJs6/WvsT+xWkahLYMmUGsXIgATSpWcEwXESYSULOSc3VnczMCZUEc+u7bLldLO07Pzx68hvhOz/w0OvLZzr0ptnUHAQWFyFhEiGpSKaN6lNZnZibk5cJMb7bpuo5tw9lcV9yl/LI7ly4BixIqdBbSN3dkVJWddXSl7SQtbnxqm7o9ElcntUFMN9d5S9+ud5toOoiGUQ0WFWLCBdUqzS90cHNDJVTAwoSc3YBwKNpGahr7tO8jwOVraj7iatTFH/Ns2UFCcXyvNoCB9Z3IOKp7s3ghJwMProxSDjSmMxzGbQDtbIFjBnMREZ326jkZMyhmeZt+Bv/eVDBspLNi9thjZRLH0QGjODMEKYYSIIQIQQRIRCXWjJXdSdSJ4Iq9s+9XvjsHo37OH6eRzVjZyfNNu1gcnVX1an5ujNALEYE8XrW4NGH9cmjOQeD+m6dPv35fn+L0bJ7ZhhxZHJPOUKmPstMzAxxIuRkPiIuODTuA7lNJXJF2GX9TXP74MIHfmCgOlQx8PF5Gxu4lxylT+Fu6UJJDiAwi2pZxSXd5czmhnEoXchKqj+buU/zkHxyP5yJpi4D6sYO1RE2C6DQBJBaHrdXmnJWmKmCTIgYHCUEoRApRgp1CBIcruSR3JXJMI4+Jf/Zu9H983R/HpcXcVyb31Iuowp9mrdh0zwfKzkmolB6FIQcmio++lZ7791agkCxu95/8fHm9sq1WErLgSlQpuIfmhMcXHKMpb9LMDczlR5hET2oZopVLOEsTQRi11K4IMw8NfuNUgnJ0VFzctGGwJaLSaApyvBXZW9l7WtJNBJc1QkCGCu5ZhHJbCXBrGaWkcs+L6xoO1ROEwGoqjoEARE8AzT0tlvnEYlLPxQ4M4cQACKh2IZQS11HISKm5G5EUIfCLOdcGtxiwIihXj/H8SOZXVR5VO3MJ6REJrpZmYhWyp7g4iwWmgXff7c6f1ILEZz7fff5p/3li1LMpuA73UvEJMxT/ZsfyGsQIIOMKBRVx7WzeQCZZncIWNXufhDhAkUEkcBhflKfvTurquj6up8zYRV3LadCM5N+x245W3YjIipbIURWHYlKD4KCUMPUTF1LJwGzgoYzc4gShNs2cqlbh7qloU/jqARMw4FhIOIyPyNyrKWZ1SEGwInArgrOoWxNZ2EmZ5C7udv2Cu2iWh3H6Mpfot/nnKFEgIEplE77hRBJEkHLo/rkg+rkXiUAjMz06nm3eZ40wzy7G1yYmQhMkOKBC5Ee2opmBYu6MbmbM5Ea1bMIM3FnpQTLVtx3c3eJgUjYQCRVFVen1cXDZT13aOFQkRsD7qWqme5CXQrL0yrnfuzuxokW3UI56V3vPXdzV7AUAqHbYegTETMLC4NizXXL5A5jQICUs8NBZmpaZjgARjAilihVFeooxFy4EczMkQpen9TYTdRIARe4maK7teOj2fyRzY/Cdp13G/T7feqRcyjcihhQV9ac1rNVdbSoq7pA5QSyfj/cPEvjkFUTyJnh5KWBjgSEyBTIYRxJnYuHXeZyFm/M4XBq2mrRhDymoc+7rQ57hBQABwNuLFS1vFjVi2WYHVUibAk0tXsupG4ApfHz3RxjCqvzyt1unlsah9eirru0JQCnEg2publbIV7AzJmlJJ8DhXZR17OACSNkInErw3m9ANiYuuESiESIxQ05HMDWaQ+FICGJQBVlUjgxqaoEjlE4EsHbVawW4QwhD7OxT8X9lWDNLEjFFEHEYgEKdyZWcO62abzFWFS7GZOzQERYHIE8QsgJruyc4KCxxK1aSoGE2N1DXYc2BjM2NEd5TL2Pe/RDdkfdSDvjqqljHZgdYFeCsx+qGkqAdyDBvuqpFtpKwvmCrNtc2jjmnA0A2IgOFY8OKd6NUal5dCaAmJiV2UEk7SIenVUS5G68yZSdIGeZMnHuBhZnYZmQMoiYQaarcy98ATVySBkxCYBIOBCRBBAJwGQUYBCTWajbMLHPXMHkxqQokzYwEbaRlfc7MjImJJSxfySEAjGLkzhCEBCTm5bWOgpN0+QPJnfFmDxnUEXCkQkxcNuQH5V7nLQGTNxL3ToVYvFdBRsd1thEAi93TAie6yravcdtswy7F8PuehhU4QKYe3IHwHbIc5obEQcWc2MwkcSWF0fV2b16tpRD2FB21/QvTbWMxMwE0jK7IXEeOJTxDpOb4SlpSpqTaXLLDnhZAVy2UghwBulUGumH8ZBAYa1CiV55E3oHZBYtatCicwmTQiAiYQkiDKBMwCoEJvMydMXdc84kUrnoqLmHtQXzJfcy4nFSbVNXl1ftMQuSSVNntsMLwNTB7u73UEYkMMlqSfOm2h3F9XW332rORBBhMitSNJALBXJnIEoQkaYJi/ttuwxNLAlLmSZeYZL9K+VVyHdO5OwgzTbsEhlRVIkUJGjSbjf0fRoHS8ncYG6aVSQWejqX6Qp3PSGI3DznlEe1LO5O5LFSEZFAKGNnJvWKEILpYdzlocKwhEQFXClpC3c31VKzqTpVLCdVQhJi7VyPXQSU+SBPOljKtx9+p3oOsjgY12lWQXAn98JK81Dx0dmsmcl+r90m9Xsdx5SVfXKVCOZ1HetlmC+kbmOMUrfCwlMEwSWgUBicIlddCEypeC4Kcs0aAmzk7EpgVQ3BQqSBxjTY0GvOlrKlrG5EUztVZ+Y4l9gS3EAESTDpbnV73e93o2aolRFzqGuWoO1RtVjWVUUQJkckryswM4yhmQphikTh7AY1ASy7T6RlT8lyskPdLHjKJUwD1wklvzsleMvecjdie1XAbAdMp0w8Bw57lMrc04M19im7QkRE4gY4NW3dzFI6pTHRfqvdbQFsjUmaFc2Ow7xtqqYitgmicDVwTs6cQ2AQg5zclvN6vND+6cidZAf5NAdHS9s+ElWMgxM7kZqSKnKyrPlQLQUWgXjV2HwpVUWQwZS7a13f7Ne3WUeDl9sZy07PSYh0u9f15TBfxOVZbGaBiKo5xRpRYcRAaQIFM0vqzsGJyMCAWSmRcrM38lkiAnZpnBlkXLo2HHxrJ9A3Lf+Dun/t1/Kf6Z3m4enp0GGGJhioosQYbFZ7OraUYZnA3lQUI4gZrCDyUfdb3W/y/jaPA6SS+YpXx7FeRmaPQquLZkh682WCiXkyV3ZMVTleLBrgNuVms6tOfR+ojC5mamf1YimLo0oat6xf/qq7+iIlTVSVzmcKy4wAgrsTsnBIY84ddjd2c5Pv3W8WpwiNNQsZupEAFCeypGLB7uYKJ+RC+p6kXxJVZTY2NOW6DlXLDLjqoQ25ljrZQ7KMcBfRfk34ftcA47AEJ+kTSnPOyYVnliIYQEujtlq4DnDPU4EQO9y01/2tbi/327X1g5sXIhjvbnDzTE7ut6fvtCFQDTm5qNNo/hKDlqbdOonW1bhMvXOoS3G04WaFsEIRoYlYtLI6XcyPgpG+/LR/8XE/ODhCzEHKArg4hNnhZkpwVzVVM9X+imk0C3G5ivPztF0zZzI3zcZShEClAqoMkXATdVdTVWMPJdcUJQTQfF43MZBXzlNStoAdE6BGDHBJ8hTm8yT0u58miTtNzcULRI9AXLjTX90mwHSGWyHSEDGDNI3j9mq4ea7dWseUiTRbRsGwaTTj3Nfjp3tLfvakjoHn83D6cOa01WvkkVVVRKxs2QSEgoGwKeWCk0+AhLQNL5ZheRLaFYiw+zI//6TbK0Ec7mREEwkeTM5SUJcybV7dSc1csVun8Mxms3p5Vt08H/sum1rhKBT9ViJeTDRZU5AZmQIwCsHhpup1Xa+CCJuqOwp5e2Ky0at2dXcL/E6SfNes/3ACi7iZHxrWBUciJkbJpRTq1oR43H0KkRMj67i+1OsX2/11GtUgxXedMiMA4AI4cbbBn3+SjXDxpA4VTlYxhIWEcPPlmNWn/BtDHFCYOxE0GwkDCOAQuZ2HdinLRbU6bSRSd5k++clmv2GrEhMxMRGEWRggD0IibMXEGUxZveBjGBWbFzY/a5bnWJ3y9lLNUPogq5W5kIVJWRJ70ElWAoCgjMiQal41x9XBT5VXqqa02aTJ75l20wE9vnsSRNPcijJb+nWVFIYhNW2YmGJvJN2nh1m+0Qw3L/cvPktjn3obS883KnjD3TBCFlMrzZeS8eVnnbieP5lL5UsOeNhgwOalZ7fMBi6tCiaU1NiZnIkjxXbmqxNZLpvZMgr75svus5932615UHEr5NIQJYjHyMwSAhNYDSSeRi0QArGTwNzGkXdX6eysOjmrts/yza2Omr2sGhw6HRxosFOc4lPAJxTn8/b8cbOYB3L2qSfCpO7JGe5OOjXJ0Gnt36ke18MYMhjuXN3XjnD1Ip9fcFXnr2cdD4e7Yb/Lt88tTf5nAb8QRSbmRPG1zEoqzDKSazZ99iVGk3vvVE0jqyXxexQb3lymnCfgQgtDy11EQCTMdYPlWbU6aRZtlSk9/zw9/Xi36wzsxEbkJGChECC1lbFNXDMReTbSwtVGQMHdSBVuur8eu3WcH9en71r6VcKGkmU/rPcJDCjrjKyQLErSc76Ui3fq8/MgE9fq1bqmKRgv0Muku8pRwJUDCeXPOsLmeqwbPr1XRqMQkxR826c5Uw5GVt+v+7HL6qamrFYGszm83H6ohMgtuatn0wI8mWEYxqvnDqbzx9REny+bqq0XZ3m3GTV5ylmHPA5aStJAFKIsjsPquGkXNKb84pfdl590SVmigQxOIsRMTc1tGzxYAYeYXYQlBE2qxjlbTkpMUjQ8fH87PvskPKiq5VnQZP6Zd3vJyHlijbsQQ909EMrcILQxzI/CxZPlyUXFoj7yq7Z0KJXKxcspA9MOftpUVEQAOcjJDwPeDwhmCdJoUkph2He7Na+OYxUOzZYOqV93BxkTZbVhn9WzQQ0epBSxM7GHllm4jiFW7IZhn6kvqTAzdRBy8psXRBH371cxWCUhnMrqtCntmiyrKXIyqDqBYmgCx+g25OefrV88zdncOZkmESFyFq5qiZE4GEsNYhEOlTCX9BmZk+YpyilX4UwOuX6ZYuP33p9dPI4h6Isv+n5D2ePII1FidxIWI0HNQFXL2UV78V5dr9jN+q2lfizlpKGJcR4Zyj6B03TAQbWwz0u3968qmTvL/uo3AAE579ddv63iETO/avNWrImZmWnXDd3eDo3bqEAYwhyiS5C6ldks1E1MbgheCAVa6lyd3H3sh82zGMFH94MEBCMAgQUsCBFC8FSY82CmbO755pndPNOsZOxUZsGTsXBVcWgCVRSaIBQLvcwIFJjBrspkIYqquU/0bycYucNvnmWJw8V7zb0nzXwZb6/H7U0e9lGzm0EERFo1sZnR8Wm9PI2h5n6j68thfZ01Twm0EKvZUbM8lfmsAk9M7+JaTl4QXnEbvnIQ8Vf8ypAM1ufNbZ6vavAAjyWXAqBwftQ9D1bqC0o7ARJhJgoIVWjb2M6rqglVRQKFRR11SCKl+CWZukvgcRhun6Fqq6NTBpQowA+dTQq1otDjnEA0jHl9M6QMJwUbF0xaOIgEkSpK3UhdRTNyK+oRfEhb33kZzOTCmjMAR1L3bPXNM22XeXVeL1b17KgZxzwMmpJ7dniqW9SzRoRY1EZdv/Dnn3b9Vkc1YmMGEWlKedR+G/QCq1OXqnF91djdzLjQnEve1fzgxkza5PDTROgM6i6g3W5Iqallyv+VN0zGiCiNCTBieDZmBkMiQuDYxPmiiY0wAc4wCyHMlo2mceg0Zy2uJTG5+ZjG/XpYHQUOk87EoZccvQJA4I4xJ02ZBMVDuxtoFSJzIBGqqkjEUsBPIoeRU9G8IqxZC0deWExcHQxzgpOZ6TiQKYSFHU2o6lDcxOwQCnA1y+HmpV0/77c3XUouzhBOpmwmIs4Ml3GgF0+37vPjC2LIAcQngPSQd7rjitAhoUuvhmgdMM7J8qsNQ45VLSyTcbGSYefS2BOAuoMZBGITCbEO1SxwwxxMKMAFTkF8NhPP6p7Rs7rlPJIKIyjn1KWUs8Todkcu4mKRXgXlcJRxkROLy6kwDQJxRRw5xMDEzHfNhuDOh4jGgcKQK3arNKb0Ug0IcnDOqcDuXIpDi6PjhtRju8n7zTh2vl1rTknhSu7IXpp+GdmBzg5kJrl92VU1LVZtuXIzYya1yfbaAXG+83zcjAhgNpu0U2AojPJoKZGzopSm+lSZbeRqlHtS8wKPM6gUkAijqgs+XjwlhBCcjN3aVZVU3dSVQkEn3MgkZ7dEqEFWwkWRu4FSTkQCU4KTV06jCKVcBAQJIJhbSa+QlbK2A3x7eAbmMJDx9Dd3Lz64vZb656EzM6CMnAY5Z8u+uR5ur/vNrY69FX8P5OZgcBlpWTxIUFEqRoCBbMzdumuXgUkAoVJkUCDMkp44BGMlAQ4my1QY4pP0D4/lgFeXwqNJ9dN0KQdyOXza7MwcqyoGOeQFmZlsmgBgIK+qOIqLsGYuWDmBspYGFF/xB/yNH4mJHZwPWSOaCjamLglsBs0GkEjxLkqIbqXf2VQ2WDAHndZY2U/u5OYpq+aMOoKJYOM+Xz9P6+s0JFPVg9J2J5eyaOAs7Gbu5RZNFcxRVY0w9mbqEnHwR6bFTmVCSsmLlEGLTOq+W/exDe2sKqe+MXtisguv4hBn4gPL9c5dgogUKGbibLG4+xS7M5lBU6GUTU/0LgSfZPRGeuerBxHFippWhq1y6XlGfHdRZq46+XSWjciIqCj0nNTUcy5JwambwvTYqBAriwWBmcEShMf9+Pzzbn9jTsbi7gQGF0amQ4RNy+olgEzLTGTGQdEZS0qk6rFm5INXWVThZJCyqk9PxkAkIUgIcnf/AcLOFOoQAwWEyXeaEgWO6W0UiI0OvfWMiaCaCgXabepTzCSaM5woCUZjJyIXmYr9QCYSNJdUjBWBHrr8u3ue8m5OAVy3dagzLORszhAhJnajIWkFkAUVMZoaZZWGNjBStdGBTMjCbsxQ9SmLSEREoQrzBUcRNza1m8u+Wyd1gDIxhYi7OvTyySHKxFgFERkZAC7ddoTEmMFTjqXMWinLjIWA3Hc+dHkcc+n+UFLaIQjG5OohiAj+/6Ci8wfXgTEvAAAAAElFTkSuQmCC\n",
        "metadata": {
         "tags": []
        },
        "output_type": "display_data",
        "text/plain": "<PIL.Image.Image image mode=RGB size=127x128 at 0x7F79B6CA6850>"
       }
      ]
     }
    },
    "50f29482f3c7407da1eec70267ee3d88": {
     "model_module": "@jupyter-widgets/base",
     "model_name": "LayoutModel",
     "state": {
      "_model_module": "@jupyter-widgets/base",
      "_model_module_version": "1.2.0",
      "_model_name": "LayoutModel",
      "_view_count": null,
      "_view_module": "@jupyter-widgets/base",
      "_view_module_version": "1.2.0",
      "_view_name": "LayoutView",
      "align_content": null,
      "align_items": null,
      "align_self": null,
      "border": null,
      "bottom": null,
      "display": null,
      "flex": null,
      "flex_flow": null,
      "grid_area": null,
      "grid_auto_columns": null,
      "grid_auto_flow": null,
      "grid_auto_rows": null,
      "grid_column": null,
      "grid_gap": null,
      "grid_row": null,
      "grid_template_areas": null,
      "grid_template_columns": null,
      "grid_template_rows": null,
      "height": null,
      "justify_content": null,
      "justify_items": null,
      "left": null,
      "margin": null,
      "max_height": null,
      "max_width": null,
      "min_height": null,
      "min_width": null,
      "object_fit": null,
      "object_position": null,
      "order": null,
      "overflow": null,
      "overflow_x": null,
      "overflow_y": null,
      "padding": null,
      "right": null,
      "top": null,
      "visibility": null,
      "width": null
     }
    },
    "60d06394630a44b29fb02ae99c4e1ef3": {
     "model_module": "@jupyter-widgets/controls",
     "model_name": "ButtonStyleModel",
     "state": {
      "_model_module": "@jupyter-widgets/controls",
      "_model_module_version": "1.5.0",
      "_model_name": "ButtonStyleModel",
      "_view_count": null,
      "_view_module": "@jupyter-widgets/base",
      "_view_module_version": "1.2.0",
      "_view_name": "StyleView",
      "button_color": null,
      "font_weight": ""
     }
    },
    "73b9c255b56a43dd903a17198427ed5a": {
     "model_module": "@jupyter-widgets/controls",
     "model_name": "DescriptionStyleModel",
     "state": {
      "_model_module": "@jupyter-widgets/controls",
      "_model_module_version": "1.5.0",
      "_model_name": "DescriptionStyleModel",
      "_view_count": null,
      "_view_module": "@jupyter-widgets/base",
      "_view_module_version": "1.2.0",
      "_view_name": "StyleView",
      "description_width": ""
     }
    },
    "80c0a755473641ea8aa83238ce14c532": {
     "model_module": "@jupyter-widgets/controls",
     "model_name": "LabelModel",
     "state": {
      "_dom_classes": [],
      "_model_module": "@jupyter-widgets/controls",
      "_model_module_version": "1.5.0",
      "_model_name": "LabelModel",
      "_view_count": null,
      "_view_module": "@jupyter-widgets/controls",
      "_view_module_version": "1.5.0",
      "_view_name": "LabelView",
      "description": "",
      "description_tooltip": null,
      "layout": "IPY_MODEL_ab3b6e4af138484780138b7972ca5569",
      "placeholder": "​",
      "style": "IPY_MODEL_b6d537b377804632b523547e1e44eced",
      "value": "Selecciona tu imagen:"
     }
    },
    "85508aaf24594ecb9c80a37cb8640bda": {
     "model_module": "@jupyter-widgets/controls",
     "model_name": "LabelModel",
     "state": {
      "_dom_classes": [],
      "_model_module": "@jupyter-widgets/controls",
      "_model_module_version": "1.5.0",
      "_model_name": "LabelModel",
      "_view_count": null,
      "_view_module": "@jupyter-widgets/controls",
      "_view_module_version": "1.5.0",
      "_view_name": "LabelView",
      "description": "",
      "description_tooltip": null,
      "layout": "IPY_MODEL_3fdc66a2c7bc4666b6bda0bc3c6f2bc4",
      "placeholder": "​",
      "style": "IPY_MODEL_73b9c255b56a43dd903a17198427ed5a",
      "value": "Tipo de red a emplear:"
     }
    },
    "8928b4abaae0493cb3eaf8f185b63233": {
     "model_module": "@jupyter-widgets/base",
     "model_name": "LayoutModel",
     "state": {
      "_model_module": "@jupyter-widgets/base",
      "_model_module_version": "1.2.0",
      "_model_name": "LayoutModel",
      "_view_count": null,
      "_view_module": "@jupyter-widgets/base",
      "_view_module_version": "1.2.0",
      "_view_name": "LayoutView",
      "align_content": null,
      "align_items": null,
      "align_self": null,
      "border": null,
      "bottom": null,
      "display": null,
      "flex": null,
      "flex_flow": null,
      "grid_area": null,
      "grid_auto_columns": null,
      "grid_auto_flow": null,
      "grid_auto_rows": null,
      "grid_column": null,
      "grid_gap": null,
      "grid_row": null,
      "grid_template_areas": null,
      "grid_template_columns": null,
      "grid_template_rows": null,
      "height": null,
      "justify_content": null,
      "justify_items": null,
      "left": null,
      "margin": null,
      "max_height": null,
      "max_width": null,
      "min_height": null,
      "min_width": null,
      "object_fit": null,
      "object_position": null,
      "order": null,
      "overflow": null,
      "overflow_x": null,
      "overflow_y": null,
      "padding": null,
      "right": null,
      "top": null,
      "visibility": null,
      "width": null
     }
    },
    "aa3b24dee1224cf9ae95bf2993ec3f63": {
     "model_module": "@jupyter-widgets/controls",
     "model_name": "ButtonModel",
     "state": {
      "_dom_classes": [],
      "_model_module": "@jupyter-widgets/controls",
      "_model_module_version": "1.5.0",
      "_model_name": "ButtonModel",
      "_view_count": null,
      "_view_module": "@jupyter-widgets/controls",
      "_view_module_version": "1.5.0",
      "_view_name": "ButtonView",
      "button_style": "",
      "description": "Clasificar",
      "disabled": false,
      "icon": "",
      "layout": "IPY_MODEL_50f29482f3c7407da1eec70267ee3d88",
      "style": "IPY_MODEL_60d06394630a44b29fb02ae99c4e1ef3",
      "tooltip": ""
     }
    },
    "ab3b6e4af138484780138b7972ca5569": {
     "model_module": "@jupyter-widgets/base",
     "model_name": "LayoutModel",
     "state": {
      "_model_module": "@jupyter-widgets/base",
      "_model_module_version": "1.2.0",
      "_model_name": "LayoutModel",
      "_view_count": null,
      "_view_module": "@jupyter-widgets/base",
      "_view_module_version": "1.2.0",
      "_view_name": "LayoutView",
      "align_content": null,
      "align_items": null,
      "align_self": null,
      "border": null,
      "bottom": null,
      "display": null,
      "flex": null,
      "flex_flow": null,
      "grid_area": null,
      "grid_auto_columns": null,
      "grid_auto_flow": null,
      "grid_auto_rows": null,
      "grid_column": null,
      "grid_gap": null,
      "grid_row": null,
      "grid_template_areas": null,
      "grid_template_columns": null,
      "grid_template_rows": null,
      "height": null,
      "justify_content": null,
      "justify_items": null,
      "left": null,
      "margin": null,
      "max_height": null,
      "max_width": null,
      "min_height": null,
      "min_width": null,
      "object_fit": null,
      "object_position": null,
      "order": null,
      "overflow": null,
      "overflow_x": null,
      "overflow_y": null,
      "padding": null,
      "right": null,
      "top": null,
      "visibility": null,
      "width": null
     }
    },
    "b34234e96f924cbc923277a675d6041b": {
     "model_module": "@jupyter-widgets/controls",
     "model_name": "FileUploadModel",
     "state": {
      "_counter": 1,
      "_dom_classes": [],
      "_model_module": "@jupyter-widgets/controls",
      "_model_module_version": "1.5.0",
      "_model_name": "FileUploadModel",
      "_view_count": null,
      "_view_module": "@jupyter-widgets/controls",
      "_view_module_version": "1.5.0",
      "_view_name": "FileUploadView",
      "accept": "",
      "button_style": "",
      "data": [
       null
      ],
      "description": "Upload",
      "description_tooltip": null,
      "disabled": false,
      "error": "",
      "icon": "upload",
      "layout": "IPY_MODEL_1fefbece17184022a1ec5ebb32b5c9a1",
      "metadata": [
       {
        "lastModified": 1560513768000,
        "name": "MONOCYTE_15213.jpg",
        "size": 19335,
        "type": "image/jpeg"
       }
      ],
      "multiple": false,
      "style": "IPY_MODEL_10d4bb6fce8d4188ad4bccd928180661"
     }
    },
    "b6d537b377804632b523547e1e44eced": {
     "model_module": "@jupyter-widgets/controls",
     "model_name": "DescriptionStyleModel",
     "state": {
      "_model_module": "@jupyter-widgets/controls",
      "_model_module_version": "1.5.0",
      "_model_name": "DescriptionStyleModel",
      "_view_count": null,
      "_view_module": "@jupyter-widgets/base",
      "_view_module_version": "1.2.0",
      "_view_name": "StyleView",
      "description_width": ""
     }
    },
    "c4e1af99163e4d13bdc847ad0c0d1e64": {
     "model_module": "@jupyter-widgets/base",
     "model_name": "LayoutModel",
     "state": {
      "_model_module": "@jupyter-widgets/base",
      "_model_module_version": "1.2.0",
      "_model_name": "LayoutModel",
      "_view_count": null,
      "_view_module": "@jupyter-widgets/base",
      "_view_module_version": "1.2.0",
      "_view_name": "LayoutView",
      "align_content": null,
      "align_items": null,
      "align_self": null,
      "border": null,
      "bottom": null,
      "display": null,
      "flex": null,
      "flex_flow": null,
      "grid_area": null,
      "grid_auto_columns": null,
      "grid_auto_flow": null,
      "grid_auto_rows": null,
      "grid_column": null,
      "grid_gap": null,
      "grid_row": null,
      "grid_template_areas": null,
      "grid_template_columns": null,
      "grid_template_rows": null,
      "height": null,
      "justify_content": null,
      "justify_items": null,
      "left": null,
      "margin": null,
      "max_height": null,
      "max_width": null,
      "min_height": null,
      "min_width": null,
      "object_fit": null,
      "object_position": null,
      "order": null,
      "overflow": null,
      "overflow_x": null,
      "overflow_y": null,
      "padding": null,
      "right": null,
      "top": null,
      "visibility": null,
      "width": null
     }
    },
    "e39a918a018f42c58b757777707f7edc": {
     "model_module": "@jupyter-widgets/base",
     "model_name": "LayoutModel",
     "state": {
      "_model_module": "@jupyter-widgets/base",
      "_model_module_version": "1.2.0",
      "_model_name": "LayoutModel",
      "_view_count": null,
      "_view_module": "@jupyter-widgets/base",
      "_view_module_version": "1.2.0",
      "_view_name": "LayoutView",
      "align_content": null,
      "align_items": null,
      "align_self": null,
      "border": null,
      "bottom": null,
      "display": null,
      "flex": null,
      "flex_flow": null,
      "grid_area": null,
      "grid_auto_columns": null,
      "grid_auto_flow": null,
      "grid_auto_rows": null,
      "grid_column": null,
      "grid_gap": null,
      "grid_row": null,
      "grid_template_areas": null,
      "grid_template_columns": null,
      "grid_template_rows": null,
      "height": null,
      "justify_content": null,
      "justify_items": null,
      "left": null,
      "margin": null,
      "max_height": null,
      "max_width": null,
      "min_height": null,
      "min_width": null,
      "object_fit": null,
      "object_position": null,
      "order": null,
      "overflow": null,
      "overflow_x": null,
      "overflow_y": null,
      "padding": null,
      "right": null,
      "top": null,
      "visibility": null,
      "width": null
     }
    },
    "ff8d345f66f84cbc83eb96f6f708bffd": {
     "model_module": "@jupyter-widgets/base",
     "model_name": "LayoutModel",
     "state": {
      "_model_module": "@jupyter-widgets/base",
      "_model_module_version": "1.2.0",
      "_model_name": "LayoutModel",
      "_view_count": null,
      "_view_module": "@jupyter-widgets/base",
      "_view_module_version": "1.2.0",
      "_view_name": "LayoutView",
      "align_content": null,
      "align_items": null,
      "align_self": null,
      "border": null,
      "bottom": null,
      "display": null,
      "flex": null,
      "flex_flow": null,
      "grid_area": null,
      "grid_auto_columns": null,
      "grid_auto_flow": null,
      "grid_auto_rows": null,
      "grid_column": null,
      "grid_gap": null,
      "grid_row": null,
      "grid_template_areas": null,
      "grid_template_columns": null,
      "grid_template_rows": null,
      "height": null,
      "justify_content": null,
      "justify_items": null,
      "left": null,
      "margin": null,
      "max_height": null,
      "max_width": null,
      "min_height": null,
      "min_width": null,
      "object_fit": null,
      "object_position": null,
      "order": null,
      "overflow": null,
      "overflow_x": null,
      "overflow_y": null,
      "padding": null,
      "right": null,
      "top": null,
      "visibility": null,
      "width": null
     }
    }
   }
  }
 },
 "nbformat": 4,
 "nbformat_minor": 1
}
